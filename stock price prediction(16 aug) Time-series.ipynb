{
  "nbformat": 4,
  "nbformat_minor": 0,
  "metadata": {
    "colab": {
      "name": "flipr2.ipynb",
      "provenance": []
    },
    "kernelspec": {
      "name": "python3",
      "display_name": "Python 3"
    }
  },
  "cells": [
    {
      "cell_type": "code",
      "metadata": {
        "id": "T9oPdQsvKFXL",
        "colab_type": "code",
        "colab": {}
      },
      "source": [
        "import numpy as np\n",
        "import pandas as pd\n",
        "import matplotlib.pyplot as plt\n"
      ],
      "execution_count": 227,
      "outputs": []
    },
    {
      "cell_type": "code",
      "metadata": {
        "id": "sCbZHCl-4Ijk",
        "colab_type": "code",
        "colab": {
          "base_uri": "https://localhost:8080/",
          "height": 213
        },
        "outputId": "fc94328f-78a5-459b-9e2d-d5ea01cfe4a2"
      },
      "source": [
        "df = pd.read_excel('Test_dataset.xlsx','Put-Call_TS',skiprows=1)\n",
        "df.head()"
      ],
      "execution_count": 351,
      "outputs": [
        {
          "output_type": "execute_result",
          "data": {
            "text/html": [
              "<div>\n",
              "<style scoped>\n",
              "    .dataframe tbody tr th:only-of-type {\n",
              "        vertical-align: middle;\n",
              "    }\n",
              "\n",
              "    .dataframe tbody tr th {\n",
              "        vertical-align: top;\n",
              "    }\n",
              "\n",
              "    .dataframe thead th {\n",
              "        text-align: right;\n",
              "    }\n",
              "</style>\n",
              "<table border=\"1\" class=\"dataframe\">\n",
              "  <thead>\n",
              "    <tr style=\"text-align: right;\">\n",
              "      <th></th>\n",
              "      <th>Unnamed: 0</th>\n",
              "      <th>2020-08-10 00:00:00</th>\n",
              "      <th>2020-08-11 00:00:00</th>\n",
              "      <th>2020-08-12 00:00:00</th>\n",
              "      <th>2020-08-13 00:00:00</th>\n",
              "      <th>2020-08-14 00:00:00</th>\n",
              "      <th>2020-08-15 00:00:00</th>\n",
              "    </tr>\n",
              "  </thead>\n",
              "  <tbody>\n",
              "    <tr>\n",
              "      <th>0</th>\n",
              "      <td>AC3235</td>\n",
              "      <td>0.80</td>\n",
              "      <td>0.660</td>\n",
              "      <td>0.77240</td>\n",
              "      <td>0.983224</td>\n",
              "      <td>0.901211</td>\n",
              "      <td>0.898368</td>\n",
              "    </tr>\n",
              "    <tr>\n",
              "      <th>1</th>\n",
              "      <td>AC3236</td>\n",
              "      <td>0.86</td>\n",
              "      <td>0.732</td>\n",
              "      <td>0.85448</td>\n",
              "      <td>1.086645</td>\n",
              "      <td>1.017042</td>\n",
              "      <td>1.029258</td>\n",
              "    </tr>\n",
              "    <tr>\n",
              "      <th>2</th>\n",
              "      <td>AC3237</td>\n",
              "      <td>0.93</td>\n",
              "      <td>0.816</td>\n",
              "      <td>0.95024</td>\n",
              "      <td>1.207302</td>\n",
              "      <td>NaN</td>\n",
              "      <td>1.181962</td>\n",
              "    </tr>\n",
              "    <tr>\n",
              "      <th>3</th>\n",
              "      <td>AC3238</td>\n",
              "      <td>1.09</td>\n",
              "      <td>1.008</td>\n",
              "      <td>1.16912</td>\n",
              "      <td>1.483091</td>\n",
              "      <td>1.461062</td>\n",
              "      <td>1.531000</td>\n",
              "    </tr>\n",
              "    <tr>\n",
              "      <th>4</th>\n",
              "      <td>AC3239</td>\n",
              "      <td>NaN</td>\n",
              "      <td>1.104</td>\n",
              "      <td>1.27856</td>\n",
              "      <td>1.620986</td>\n",
              "      <td>1.615504</td>\n",
              "      <td>1.705519</td>\n",
              "    </tr>\n",
              "  </tbody>\n",
              "</table>\n",
              "</div>"
            ],
            "text/plain": [
              "  Unnamed: 0  2020-08-10 00:00:00  ...  2020-08-14 00:00:00  2020-08-15 00:00:00\n",
              "0     AC3235                 0.80  ...             0.901211             0.898368\n",
              "1     AC3236                 0.86  ...             1.017042             1.029258\n",
              "2     AC3237                 0.93  ...                  NaN             1.181962\n",
              "3     AC3238                 1.09  ...             1.461062             1.531000\n",
              "4     AC3239                  NaN  ...             1.615504             1.705519\n",
              "\n",
              "[5 rows x 7 columns]"
            ]
          },
          "metadata": {
            "tags": []
          },
          "execution_count": 351
        }
      ]
    },
    {
      "cell_type": "code",
      "metadata": {
        "id": "PdU8K0DKOdqI",
        "colab_type": "code",
        "colab": {
          "base_uri": "https://localhost:8080/",
          "height": 213
        },
        "outputId": "02bf772a-4222-41ea-f1c0-f430a03caf66"
      },
      "source": [
        "test=df.rename(columns={'Unnamed: 0': \"Stock Index\"})\n",
        "test.head()"
      ],
      "execution_count": 352,
      "outputs": [
        {
          "output_type": "execute_result",
          "data": {
            "text/html": [
              "<div>\n",
              "<style scoped>\n",
              "    .dataframe tbody tr th:only-of-type {\n",
              "        vertical-align: middle;\n",
              "    }\n",
              "\n",
              "    .dataframe tbody tr th {\n",
              "        vertical-align: top;\n",
              "    }\n",
              "\n",
              "    .dataframe thead th {\n",
              "        text-align: right;\n",
              "    }\n",
              "</style>\n",
              "<table border=\"1\" class=\"dataframe\">\n",
              "  <thead>\n",
              "    <tr style=\"text-align: right;\">\n",
              "      <th></th>\n",
              "      <th>Stock Index</th>\n",
              "      <th>2020-08-10 00:00:00</th>\n",
              "      <th>2020-08-11 00:00:00</th>\n",
              "      <th>2020-08-12 00:00:00</th>\n",
              "      <th>2020-08-13 00:00:00</th>\n",
              "      <th>2020-08-14 00:00:00</th>\n",
              "      <th>2020-08-15 00:00:00</th>\n",
              "    </tr>\n",
              "  </thead>\n",
              "  <tbody>\n",
              "    <tr>\n",
              "      <th>0</th>\n",
              "      <td>AC3235</td>\n",
              "      <td>0.80</td>\n",
              "      <td>0.660</td>\n",
              "      <td>0.77240</td>\n",
              "      <td>0.983224</td>\n",
              "      <td>0.901211</td>\n",
              "      <td>0.898368</td>\n",
              "    </tr>\n",
              "    <tr>\n",
              "      <th>1</th>\n",
              "      <td>AC3236</td>\n",
              "      <td>0.86</td>\n",
              "      <td>0.732</td>\n",
              "      <td>0.85448</td>\n",
              "      <td>1.086645</td>\n",
              "      <td>1.017042</td>\n",
              "      <td>1.029258</td>\n",
              "    </tr>\n",
              "    <tr>\n",
              "      <th>2</th>\n",
              "      <td>AC3237</td>\n",
              "      <td>0.93</td>\n",
              "      <td>0.816</td>\n",
              "      <td>0.95024</td>\n",
              "      <td>1.207302</td>\n",
              "      <td>NaN</td>\n",
              "      <td>1.181962</td>\n",
              "    </tr>\n",
              "    <tr>\n",
              "      <th>3</th>\n",
              "      <td>AC3238</td>\n",
              "      <td>1.09</td>\n",
              "      <td>1.008</td>\n",
              "      <td>1.16912</td>\n",
              "      <td>1.483091</td>\n",
              "      <td>1.461062</td>\n",
              "      <td>1.531000</td>\n",
              "    </tr>\n",
              "    <tr>\n",
              "      <th>4</th>\n",
              "      <td>AC3239</td>\n",
              "      <td>NaN</td>\n",
              "      <td>1.104</td>\n",
              "      <td>1.27856</td>\n",
              "      <td>1.620986</td>\n",
              "      <td>1.615504</td>\n",
              "      <td>1.705519</td>\n",
              "    </tr>\n",
              "  </tbody>\n",
              "</table>\n",
              "</div>"
            ],
            "text/plain": [
              "  Stock Index  2020-08-10 00:00:00  ...  2020-08-14 00:00:00  2020-08-15 00:00:00\n",
              "0      AC3235                 0.80  ...             0.901211             0.898368\n",
              "1      AC3236                 0.86  ...             1.017042             1.029258\n",
              "2      AC3237                 0.93  ...                  NaN             1.181962\n",
              "3      AC3238                 1.09  ...             1.461062             1.531000\n",
              "4      AC3239                  NaN  ...             1.615504             1.705519\n",
              "\n",
              "[5 rows x 7 columns]"
            ]
          },
          "metadata": {
            "tags": []
          },
          "execution_count": 352
        }
      ]
    },
    {
      "cell_type": "code",
      "metadata": {
        "id": "Xceii40fRafp",
        "colab_type": "code",
        "colab": {}
      },
      "source": [
        "SI=test['Stock Index']\n",
        "test=test.drop(['Stock Index'],axis=1)"
      ],
      "execution_count": 353,
      "outputs": []
    },
    {
      "cell_type": "code",
      "metadata": {
        "id": "TCqxshoDNaEd",
        "colab_type": "code",
        "colab": {}
      },
      "source": [
        "'''test=pd.DataFrame(df['Stock Index'])\n",
        "test['d1']=df[df.columns[1]]\n",
        "test['d2']=df[df.columns[2]]\n",
        "test['d3']=df[df.columns[3]]\n",
        "test['d4']=df[df.columns[4]]\n",
        "test['d5']=df[df.columns[5]]\n",
        "test['d6']=df[df.columns[6]]\n",
        "test.head()'''"
      ],
      "execution_count": null,
      "outputs": []
    },
    {
      "cell_type": "code",
      "metadata": {
        "id": "RiGyoHXeNaHc",
        "colab_type": "code",
        "colab": {
          "base_uri": "https://localhost:8080/",
          "height": 413
        },
        "outputId": "92cecd61-07c5-4be3-8168-51f31a8261d7"
      },
      "source": [
        "test=test.T\n",
        "test.head()"
      ],
      "execution_count": 354,
      "outputs": [
        {
          "output_type": "execute_result",
          "data": {
            "text/html": [
              "<div>\n",
              "<style scoped>\n",
              "    .dataframe tbody tr th:only-of-type {\n",
              "        vertical-align: middle;\n",
              "    }\n",
              "\n",
              "    .dataframe tbody tr th {\n",
              "        vertical-align: top;\n",
              "    }\n",
              "\n",
              "    .dataframe thead th {\n",
              "        text-align: right;\n",
              "    }\n",
              "</style>\n",
              "<table border=\"1\" class=\"dataframe\">\n",
              "  <thead>\n",
              "    <tr style=\"text-align: right;\">\n",
              "      <th></th>\n",
              "      <th>0</th>\n",
              "      <th>1</th>\n",
              "      <th>2</th>\n",
              "      <th>3</th>\n",
              "      <th>4</th>\n",
              "      <th>5</th>\n",
              "      <th>6</th>\n",
              "      <th>7</th>\n",
              "      <th>8</th>\n",
              "      <th>9</th>\n",
              "      <th>10</th>\n",
              "      <th>11</th>\n",
              "      <th>12</th>\n",
              "      <th>13</th>\n",
              "      <th>14</th>\n",
              "      <th>15</th>\n",
              "      <th>16</th>\n",
              "      <th>17</th>\n",
              "      <th>18</th>\n",
              "      <th>19</th>\n",
              "      <th>20</th>\n",
              "      <th>21</th>\n",
              "      <th>22</th>\n",
              "      <th>23</th>\n",
              "      <th>24</th>\n",
              "      <th>25</th>\n",
              "      <th>26</th>\n",
              "      <th>27</th>\n",
              "      <th>28</th>\n",
              "      <th>29</th>\n",
              "      <th>30</th>\n",
              "      <th>31</th>\n",
              "      <th>32</th>\n",
              "      <th>33</th>\n",
              "      <th>34</th>\n",
              "      <th>35</th>\n",
              "      <th>36</th>\n",
              "      <th>37</th>\n",
              "      <th>38</th>\n",
              "      <th>39</th>\n",
              "      <th>...</th>\n",
              "      <th>3291</th>\n",
              "      <th>3292</th>\n",
              "      <th>3293</th>\n",
              "      <th>3294</th>\n",
              "      <th>3295</th>\n",
              "      <th>3296</th>\n",
              "      <th>3297</th>\n",
              "      <th>3298</th>\n",
              "      <th>3299</th>\n",
              "      <th>3300</th>\n",
              "      <th>3301</th>\n",
              "      <th>3302</th>\n",
              "      <th>3303</th>\n",
              "      <th>3304</th>\n",
              "      <th>3305</th>\n",
              "      <th>3306</th>\n",
              "      <th>3307</th>\n",
              "      <th>3308</th>\n",
              "      <th>3309</th>\n",
              "      <th>3310</th>\n",
              "      <th>3311</th>\n",
              "      <th>3312</th>\n",
              "      <th>3313</th>\n",
              "      <th>3314</th>\n",
              "      <th>3315</th>\n",
              "      <th>3316</th>\n",
              "      <th>3317</th>\n",
              "      <th>3318</th>\n",
              "      <th>3319</th>\n",
              "      <th>3320</th>\n",
              "      <th>3321</th>\n",
              "      <th>3322</th>\n",
              "      <th>3323</th>\n",
              "      <th>3324</th>\n",
              "      <th>3325</th>\n",
              "      <th>3326</th>\n",
              "      <th>3327</th>\n",
              "      <th>3328</th>\n",
              "      <th>3329</th>\n",
              "      <th>3330</th>\n",
              "    </tr>\n",
              "  </thead>\n",
              "  <tbody>\n",
              "    <tr>\n",
              "      <th>2020-08-10 00:00:00</th>\n",
              "      <td>0.800000</td>\n",
              "      <td>0.860000</td>\n",
              "      <td>0.930000</td>\n",
              "      <td>1.090000</td>\n",
              "      <td>NaN</td>\n",
              "      <td>NaN</td>\n",
              "      <td>1.230000</td>\n",
              "      <td>1.000000</td>\n",
              "      <td>1.000000</td>\n",
              "      <td>1.070000</td>\n",
              "      <td>1.030000</td>\n",
              "      <td>0.880000</td>\n",
              "      <td>0.710000</td>\n",
              "      <td>1.170000</td>\n",
              "      <td>1.070000</td>\n",
              "      <td>0.620000</td>\n",
              "      <td>0.680000</td>\n",
              "      <td>1.090000</td>\n",
              "      <td>0.630000</td>\n",
              "      <td>1.020000</td>\n",
              "      <td>1.110000</td>\n",
              "      <td>1.100000</td>\n",
              "      <td>0.99000</td>\n",
              "      <td>1.280000</td>\n",
              "      <td>1.250000</td>\n",
              "      <td>1.20000</td>\n",
              "      <td>0.710000</td>\n",
              "      <td>0.770000</td>\n",
              "      <td>0.680000</td>\n",
              "      <td>0.670000</td>\n",
              "      <td>1.290000</td>\n",
              "      <td>1.160000</td>\n",
              "      <td>1.060000</td>\n",
              "      <td>1.280000</td>\n",
              "      <td>0.690000</td>\n",
              "      <td>1.140000</td>\n",
              "      <td>1.160000</td>\n",
              "      <td>1.190000</td>\n",
              "      <td>0.820000</td>\n",
              "      <td>1.110000</td>\n",
              "      <td>...</td>\n",
              "      <td>0.680000</td>\n",
              "      <td>0.990000</td>\n",
              "      <td>0.740000</td>\n",
              "      <td>0.770000</td>\n",
              "      <td>1.170000</td>\n",
              "      <td>1.020000</td>\n",
              "      <td>0.720000</td>\n",
              "      <td>0.680000</td>\n",
              "      <td>1.170000</td>\n",
              "      <td>0.960000</td>\n",
              "      <td>0.830000</td>\n",
              "      <td>0.940000</td>\n",
              "      <td>1.060000</td>\n",
              "      <td>1.030000</td>\n",
              "      <td>0.830000</td>\n",
              "      <td>0.720000</td>\n",
              "      <td>0.940000</td>\n",
              "      <td>0.720000</td>\n",
              "      <td>0.760000</td>\n",
              "      <td>0.740000</td>\n",
              "      <td>1.160000</td>\n",
              "      <td>0.870000</td>\n",
              "      <td>0.650000</td>\n",
              "      <td>1.030000</td>\n",
              "      <td>1.190000</td>\n",
              "      <td>0.630000</td>\n",
              "      <td>1.170000</td>\n",
              "      <td>1.270000</td>\n",
              "      <td>0.990000</td>\n",
              "      <td>1.240000</td>\n",
              "      <td>0.860000</td>\n",
              "      <td>0.600000</td>\n",
              "      <td>0.750000</td>\n",
              "      <td>0.990000</td>\n",
              "      <td>1.010000</td>\n",
              "      <td>0.860000</td>\n",
              "      <td>0.640000</td>\n",
              "      <td>0.670000</td>\n",
              "      <td>0.790000</td>\n",
              "      <td>0.740000</td>\n",
              "    </tr>\n",
              "    <tr>\n",
              "      <th>2020-08-11 00:00:00</th>\n",
              "      <td>0.660000</td>\n",
              "      <td>0.732000</td>\n",
              "      <td>0.816000</td>\n",
              "      <td>1.008000</td>\n",
              "      <td>1.104000</td>\n",
              "      <td>1.152000</td>\n",
              "      <td>1.176000</td>\n",
              "      <td>0.900000</td>\n",
              "      <td>0.900000</td>\n",
              "      <td>0.984000</td>\n",
              "      <td>0.936000</td>\n",
              "      <td>0.756000</td>\n",
              "      <td>0.552000</td>\n",
              "      <td>NaN</td>\n",
              "      <td>NaN</td>\n",
              "      <td>0.444000</td>\n",
              "      <td>0.516000</td>\n",
              "      <td>1.008000</td>\n",
              "      <td>0.456000</td>\n",
              "      <td>0.924000</td>\n",
              "      <td>1.032000</td>\n",
              "      <td>1.020000</td>\n",
              "      <td>0.88800</td>\n",
              "      <td>1.236000</td>\n",
              "      <td>1.200000</td>\n",
              "      <td>1.14000</td>\n",
              "      <td>0.552000</td>\n",
              "      <td>0.624000</td>\n",
              "      <td>0.516000</td>\n",
              "      <td>0.504000</td>\n",
              "      <td>1.248000</td>\n",
              "      <td>1.092000</td>\n",
              "      <td>0.972000</td>\n",
              "      <td>1.236000</td>\n",
              "      <td>0.528000</td>\n",
              "      <td>1.068000</td>\n",
              "      <td>1.092000</td>\n",
              "      <td>1.128000</td>\n",
              "      <td>0.684000</td>\n",
              "      <td>1.032000</td>\n",
              "      <td>...</td>\n",
              "      <td>0.516000</td>\n",
              "      <td>0.888000</td>\n",
              "      <td>0.588000</td>\n",
              "      <td>0.624000</td>\n",
              "      <td>1.104000</td>\n",
              "      <td>0.924000</td>\n",
              "      <td>0.564000</td>\n",
              "      <td>0.516000</td>\n",
              "      <td>1.104000</td>\n",
              "      <td>0.852000</td>\n",
              "      <td>0.696000</td>\n",
              "      <td>0.828000</td>\n",
              "      <td>0.972000</td>\n",
              "      <td>0.936000</td>\n",
              "      <td>0.696000</td>\n",
              "      <td>0.564000</td>\n",
              "      <td>0.828000</td>\n",
              "      <td>0.564000</td>\n",
              "      <td>0.612000</td>\n",
              "      <td>0.588000</td>\n",
              "      <td>1.092000</td>\n",
              "      <td>0.744000</td>\n",
              "      <td>0.480000</td>\n",
              "      <td>0.936000</td>\n",
              "      <td>1.128000</td>\n",
              "      <td>0.456000</td>\n",
              "      <td>1.104000</td>\n",
              "      <td>1.224000</td>\n",
              "      <td>0.888000</td>\n",
              "      <td>1.188000</td>\n",
              "      <td>0.732000</td>\n",
              "      <td>0.420000</td>\n",
              "      <td>0.600000</td>\n",
              "      <td>0.888000</td>\n",
              "      <td>0.912000</td>\n",
              "      <td>0.732000</td>\n",
              "      <td>0.468000</td>\n",
              "      <td>0.504000</td>\n",
              "      <td>0.648000</td>\n",
              "      <td>0.588000</td>\n",
              "    </tr>\n",
              "    <tr>\n",
              "      <th>2020-08-12 00:00:00</th>\n",
              "      <td>0.772400</td>\n",
              "      <td>0.854480</td>\n",
              "      <td>0.950240</td>\n",
              "      <td>1.169120</td>\n",
              "      <td>1.278560</td>\n",
              "      <td>1.333280</td>\n",
              "      <td>1.360640</td>\n",
              "      <td>1.046000</td>\n",
              "      <td>1.046000</td>\n",
              "      <td>NaN</td>\n",
              "      <td>1.087040</td>\n",
              "      <td>0.881840</td>\n",
              "      <td>0.649280</td>\n",
              "      <td>1.278560</td>\n",
              "      <td>1.141760</td>\n",
              "      <td>0.526160</td>\n",
              "      <td>0.608240</td>\n",
              "      <td>1.169120</td>\n",
              "      <td>0.539840</td>\n",
              "      <td>1.073360</td>\n",
              "      <td>1.196480</td>\n",
              "      <td>1.182800</td>\n",
              "      <td>1.03232</td>\n",
              "      <td>1.429040</td>\n",
              "      <td>1.388000</td>\n",
              "      <td>1.31960</td>\n",
              "      <td>0.649280</td>\n",
              "      <td>0.731360</td>\n",
              "      <td>0.608240</td>\n",
              "      <td>0.594560</td>\n",
              "      <td>1.442720</td>\n",
              "      <td>1.264880</td>\n",
              "      <td>1.128080</td>\n",
              "      <td>1.429040</td>\n",
              "      <td>0.621920</td>\n",
              "      <td>1.237520</td>\n",
              "      <td>1.264880</td>\n",
              "      <td>1.305920</td>\n",
              "      <td>0.799760</td>\n",
              "      <td>1.196480</td>\n",
              "      <td>...</td>\n",
              "      <td>0.608240</td>\n",
              "      <td>1.032320</td>\n",
              "      <td>0.690320</td>\n",
              "      <td>0.731360</td>\n",
              "      <td>1.278560</td>\n",
              "      <td>1.073360</td>\n",
              "      <td>0.662960</td>\n",
              "      <td>0.608240</td>\n",
              "      <td>1.278560</td>\n",
              "      <td>0.991280</td>\n",
              "      <td>0.813440</td>\n",
              "      <td>0.963920</td>\n",
              "      <td>1.128080</td>\n",
              "      <td>1.087040</td>\n",
              "      <td>0.813440</td>\n",
              "      <td>0.662960</td>\n",
              "      <td>0.963920</td>\n",
              "      <td>0.662960</td>\n",
              "      <td>0.717680</td>\n",
              "      <td>0.690320</td>\n",
              "      <td>1.264880</td>\n",
              "      <td>0.868160</td>\n",
              "      <td>0.567200</td>\n",
              "      <td>1.087040</td>\n",
              "      <td>1.305920</td>\n",
              "      <td>0.539840</td>\n",
              "      <td>1.278560</td>\n",
              "      <td>1.415360</td>\n",
              "      <td>1.032320</td>\n",
              "      <td>1.374320</td>\n",
              "      <td>0.854480</td>\n",
              "      <td>0.498800</td>\n",
              "      <td>0.704000</td>\n",
              "      <td>1.032320</td>\n",
              "      <td>1.059680</td>\n",
              "      <td>0.854480</td>\n",
              "      <td>0.553520</td>\n",
              "      <td>0.594560</td>\n",
              "      <td>0.758720</td>\n",
              "      <td>0.690320</td>\n",
              "    </tr>\n",
              "    <tr>\n",
              "      <th>2020-08-13 00:00:00</th>\n",
              "      <td>0.983224</td>\n",
              "      <td>1.086645</td>\n",
              "      <td>1.207302</td>\n",
              "      <td>1.483091</td>\n",
              "      <td>1.620986</td>\n",
              "      <td>1.689933</td>\n",
              "      <td>1.724406</td>\n",
              "      <td>1.327960</td>\n",
              "      <td>1.327960</td>\n",
              "      <td>1.448618</td>\n",
              "      <td>1.379670</td>\n",
              "      <td>1.121118</td>\n",
              "      <td>0.828093</td>\n",
              "      <td>1.620986</td>\n",
              "      <td>1.448618</td>\n",
              "      <td>0.672962</td>\n",
              "      <td>0.776382</td>\n",
              "      <td>1.483091</td>\n",
              "      <td>0.690198</td>\n",
              "      <td>1.362434</td>\n",
              "      <td>1.517565</td>\n",
              "      <td>NaN</td>\n",
              "      <td>NaN</td>\n",
              "      <td>NaN</td>\n",
              "      <td>NaN</td>\n",
              "      <td>NaN</td>\n",
              "      <td>NaN</td>\n",
              "      <td>NaN</td>\n",
              "      <td>0.776382</td>\n",
              "      <td>0.759146</td>\n",
              "      <td>1.827827</td>\n",
              "      <td>1.603749</td>\n",
              "      <td>1.431381</td>\n",
              "      <td>1.810590</td>\n",
              "      <td>0.793619</td>\n",
              "      <td>1.569275</td>\n",
              "      <td>1.603749</td>\n",
              "      <td>1.655459</td>\n",
              "      <td>1.017698</td>\n",
              "      <td>1.517565</td>\n",
              "      <td>...</td>\n",
              "      <td>0.776382</td>\n",
              "      <td>1.310723</td>\n",
              "      <td>0.879803</td>\n",
              "      <td>0.931514</td>\n",
              "      <td>1.620986</td>\n",
              "      <td>1.362434</td>\n",
              "      <td>0.845330</td>\n",
              "      <td>0.776382</td>\n",
              "      <td>1.620986</td>\n",
              "      <td>1.259013</td>\n",
              "      <td>1.034934</td>\n",
              "      <td>1.224539</td>\n",
              "      <td>1.431381</td>\n",
              "      <td>1.379670</td>\n",
              "      <td>1.034934</td>\n",
              "      <td>0.845330</td>\n",
              "      <td>1.224539</td>\n",
              "      <td>0.845330</td>\n",
              "      <td>0.914277</td>\n",
              "      <td>0.879803</td>\n",
              "      <td>1.603749</td>\n",
              "      <td>1.103882</td>\n",
              "      <td>0.724672</td>\n",
              "      <td>1.379670</td>\n",
              "      <td>1.655459</td>\n",
              "      <td>0.690198</td>\n",
              "      <td>1.620986</td>\n",
              "      <td>1.793354</td>\n",
              "      <td>1.310723</td>\n",
              "      <td>1.741643</td>\n",
              "      <td>1.086645</td>\n",
              "      <td>0.638488</td>\n",
              "      <td>0.897040</td>\n",
              "      <td>1.310723</td>\n",
              "      <td>1.345197</td>\n",
              "      <td>1.086645</td>\n",
              "      <td>0.707435</td>\n",
              "      <td>0.759146</td>\n",
              "      <td>0.965987</td>\n",
              "      <td>0.879803</td>\n",
              "    </tr>\n",
              "    <tr>\n",
              "      <th>2020-08-14 00:00:00</th>\n",
              "      <td>0.901211</td>\n",
              "      <td>1.017042</td>\n",
              "      <td>NaN</td>\n",
              "      <td>1.461062</td>\n",
              "      <td>1.615504</td>\n",
              "      <td>1.692725</td>\n",
              "      <td>1.731335</td>\n",
              "      <td>1.287315</td>\n",
              "      <td>1.287315</td>\n",
              "      <td>NaN</td>\n",
              "      <td>1.345231</td>\n",
              "      <td>1.055653</td>\n",
              "      <td>0.727464</td>\n",
              "      <td>1.615504</td>\n",
              "      <td>1.422452</td>\n",
              "      <td>0.553717</td>\n",
              "      <td>0.669548</td>\n",
              "      <td>1.461062</td>\n",
              "      <td>0.573022</td>\n",
              "      <td>1.325926</td>\n",
              "      <td>1.499673</td>\n",
              "      <td>1.480367</td>\n",
              "      <td>1.26801</td>\n",
              "      <td>1.827861</td>\n",
              "      <td>1.769946</td>\n",
              "      <td>1.67342</td>\n",
              "      <td>0.727464</td>\n",
              "      <td>0.843295</td>\n",
              "      <td>0.669548</td>\n",
              "      <td>0.650243</td>\n",
              "      <td>1.847166</td>\n",
              "      <td>1.596199</td>\n",
              "      <td>1.403146</td>\n",
              "      <td>1.827861</td>\n",
              "      <td>0.688854</td>\n",
              "      <td>1.557588</td>\n",
              "      <td>1.596199</td>\n",
              "      <td>1.654114</td>\n",
              "      <td>0.939821</td>\n",
              "      <td>1.499673</td>\n",
              "      <td>...</td>\n",
              "      <td>0.669548</td>\n",
              "      <td>1.268010</td>\n",
              "      <td>0.785380</td>\n",
              "      <td>0.843295</td>\n",
              "      <td>1.615504</td>\n",
              "      <td>1.325926</td>\n",
              "      <td>0.746769</td>\n",
              "      <td>0.669548</td>\n",
              "      <td>1.615504</td>\n",
              "      <td>1.210094</td>\n",
              "      <td>0.959127</td>\n",
              "      <td>1.171484</td>\n",
              "      <td>1.403146</td>\n",
              "      <td>1.345231</td>\n",
              "      <td>0.959127</td>\n",
              "      <td>0.746769</td>\n",
              "      <td>1.171484</td>\n",
              "      <td>0.746769</td>\n",
              "      <td>0.823990</td>\n",
              "      <td>0.785380</td>\n",
              "      <td>1.596199</td>\n",
              "      <td>1.036347</td>\n",
              "      <td>0.611633</td>\n",
              "      <td>1.345231</td>\n",
              "      <td>1.654114</td>\n",
              "      <td>0.573022</td>\n",
              "      <td>1.615504</td>\n",
              "      <td>1.808556</td>\n",
              "      <td>1.268010</td>\n",
              "      <td>1.750640</td>\n",
              "      <td>1.017042</td>\n",
              "      <td>0.515107</td>\n",
              "      <td>0.804685</td>\n",
              "      <td>1.268010</td>\n",
              "      <td>1.306620</td>\n",
              "      <td>1.017042</td>\n",
              "      <td>0.592327</td>\n",
              "      <td>0.650243</td>\n",
              "      <td>0.881906</td>\n",
              "      <td>0.785380</td>\n",
              "    </tr>\n",
              "  </tbody>\n",
              "</table>\n",
              "<p>5 rows × 3331 columns</p>\n",
              "</div>"
            ],
            "text/plain": [
              "                         0         1         2     ...      3328      3329      3330\n",
              "2020-08-10 00:00:00  0.800000  0.860000  0.930000  ...  0.670000  0.790000  0.740000\n",
              "2020-08-11 00:00:00  0.660000  0.732000  0.816000  ...  0.504000  0.648000  0.588000\n",
              "2020-08-12 00:00:00  0.772400  0.854480  0.950240  ...  0.594560  0.758720  0.690320\n",
              "2020-08-13 00:00:00  0.983224  1.086645  1.207302  ...  0.759146  0.965987  0.879803\n",
              "2020-08-14 00:00:00  0.901211  1.017042       NaN  ...  0.650243  0.881906  0.785380\n",
              "\n",
              "[5 rows x 3331 columns]"
            ]
          },
          "metadata": {
            "tags": []
          },
          "execution_count": 354
        }
      ]
    },
    {
      "cell_type": "code",
      "metadata": {
        "id": "EUHuUKZZV753",
        "colab_type": "code",
        "colab": {
          "base_uri": "https://localhost:8080/",
          "height": 476
        },
        "outputId": "cb29d46a-d68e-4acc-e75a-3491401210aa"
      },
      "source": [
        "test=test.interpolate(method ='linear', limit_direction ='backward')\n",
        "test=test.interpolate(method ='linear', limit_direction ='forward')\n",
        "test"
      ],
      "execution_count": 355,
      "outputs": [
        {
          "output_type": "execute_result",
          "data": {
            "text/html": [
              "<div>\n",
              "<style scoped>\n",
              "    .dataframe tbody tr th:only-of-type {\n",
              "        vertical-align: middle;\n",
              "    }\n",
              "\n",
              "    .dataframe tbody tr th {\n",
              "        vertical-align: top;\n",
              "    }\n",
              "\n",
              "    .dataframe thead th {\n",
              "        text-align: right;\n",
              "    }\n",
              "</style>\n",
              "<table border=\"1\" class=\"dataframe\">\n",
              "  <thead>\n",
              "    <tr style=\"text-align: right;\">\n",
              "      <th></th>\n",
              "      <th>0</th>\n",
              "      <th>1</th>\n",
              "      <th>2</th>\n",
              "      <th>3</th>\n",
              "      <th>4</th>\n",
              "      <th>5</th>\n",
              "      <th>6</th>\n",
              "      <th>7</th>\n",
              "      <th>8</th>\n",
              "      <th>9</th>\n",
              "      <th>10</th>\n",
              "      <th>11</th>\n",
              "      <th>12</th>\n",
              "      <th>13</th>\n",
              "      <th>14</th>\n",
              "      <th>15</th>\n",
              "      <th>16</th>\n",
              "      <th>17</th>\n",
              "      <th>18</th>\n",
              "      <th>19</th>\n",
              "      <th>20</th>\n",
              "      <th>21</th>\n",
              "      <th>22</th>\n",
              "      <th>23</th>\n",
              "      <th>24</th>\n",
              "      <th>25</th>\n",
              "      <th>26</th>\n",
              "      <th>27</th>\n",
              "      <th>28</th>\n",
              "      <th>29</th>\n",
              "      <th>30</th>\n",
              "      <th>31</th>\n",
              "      <th>32</th>\n",
              "      <th>33</th>\n",
              "      <th>34</th>\n",
              "      <th>35</th>\n",
              "      <th>36</th>\n",
              "      <th>37</th>\n",
              "      <th>38</th>\n",
              "      <th>39</th>\n",
              "      <th>...</th>\n",
              "      <th>3291</th>\n",
              "      <th>3292</th>\n",
              "      <th>3293</th>\n",
              "      <th>3294</th>\n",
              "      <th>3295</th>\n",
              "      <th>3296</th>\n",
              "      <th>3297</th>\n",
              "      <th>3298</th>\n",
              "      <th>3299</th>\n",
              "      <th>3300</th>\n",
              "      <th>3301</th>\n",
              "      <th>3302</th>\n",
              "      <th>3303</th>\n",
              "      <th>3304</th>\n",
              "      <th>3305</th>\n",
              "      <th>3306</th>\n",
              "      <th>3307</th>\n",
              "      <th>3308</th>\n",
              "      <th>3309</th>\n",
              "      <th>3310</th>\n",
              "      <th>3311</th>\n",
              "      <th>3312</th>\n",
              "      <th>3313</th>\n",
              "      <th>3314</th>\n",
              "      <th>3315</th>\n",
              "      <th>3316</th>\n",
              "      <th>3317</th>\n",
              "      <th>3318</th>\n",
              "      <th>3319</th>\n",
              "      <th>3320</th>\n",
              "      <th>3321</th>\n",
              "      <th>3322</th>\n",
              "      <th>3323</th>\n",
              "      <th>3324</th>\n",
              "      <th>3325</th>\n",
              "      <th>3326</th>\n",
              "      <th>3327</th>\n",
              "      <th>3328</th>\n",
              "      <th>3329</th>\n",
              "      <th>3330</th>\n",
              "    </tr>\n",
              "  </thead>\n",
              "  <tbody>\n",
              "    <tr>\n",
              "      <th>2020-08-10 00:00:00</th>\n",
              "      <td>0.800000</td>\n",
              "      <td>0.860000</td>\n",
              "      <td>0.930000</td>\n",
              "      <td>1.090000</td>\n",
              "      <td>1.104000</td>\n",
              "      <td>1.152000</td>\n",
              "      <td>1.230000</td>\n",
              "      <td>1.000000</td>\n",
              "      <td>1.000000</td>\n",
              "      <td>1.070000</td>\n",
              "      <td>1.030000</td>\n",
              "      <td>0.880000</td>\n",
              "      <td>0.710000</td>\n",
              "      <td>1.170000</td>\n",
              "      <td>1.070000</td>\n",
              "      <td>0.620000</td>\n",
              "      <td>0.680000</td>\n",
              "      <td>1.090000</td>\n",
              "      <td>0.630000</td>\n",
              "      <td>1.020000</td>\n",
              "      <td>1.110000</td>\n",
              "      <td>1.100000</td>\n",
              "      <td>0.990000</td>\n",
              "      <td>1.280000</td>\n",
              "      <td>1.250000</td>\n",
              "      <td>1.200000</td>\n",
              "      <td>0.710000</td>\n",
              "      <td>0.770000</td>\n",
              "      <td>0.680000</td>\n",
              "      <td>0.670000</td>\n",
              "      <td>1.290000</td>\n",
              "      <td>1.160000</td>\n",
              "      <td>1.060000</td>\n",
              "      <td>1.280000</td>\n",
              "      <td>0.690000</td>\n",
              "      <td>1.140000</td>\n",
              "      <td>1.160000</td>\n",
              "      <td>1.190000</td>\n",
              "      <td>0.820000</td>\n",
              "      <td>1.110000</td>\n",
              "      <td>...</td>\n",
              "      <td>0.680000</td>\n",
              "      <td>0.990000</td>\n",
              "      <td>0.740000</td>\n",
              "      <td>0.770000</td>\n",
              "      <td>1.170000</td>\n",
              "      <td>1.020000</td>\n",
              "      <td>0.720000</td>\n",
              "      <td>0.680000</td>\n",
              "      <td>1.170000</td>\n",
              "      <td>0.960000</td>\n",
              "      <td>0.830000</td>\n",
              "      <td>0.940000</td>\n",
              "      <td>1.060000</td>\n",
              "      <td>1.030000</td>\n",
              "      <td>0.830000</td>\n",
              "      <td>0.720000</td>\n",
              "      <td>0.940000</td>\n",
              "      <td>0.720000</td>\n",
              "      <td>0.760000</td>\n",
              "      <td>0.740000</td>\n",
              "      <td>1.160000</td>\n",
              "      <td>0.870000</td>\n",
              "      <td>0.650000</td>\n",
              "      <td>1.030000</td>\n",
              "      <td>1.190000</td>\n",
              "      <td>0.630000</td>\n",
              "      <td>1.170000</td>\n",
              "      <td>1.270000</td>\n",
              "      <td>0.990000</td>\n",
              "      <td>1.240000</td>\n",
              "      <td>0.860000</td>\n",
              "      <td>0.600000</td>\n",
              "      <td>0.750000</td>\n",
              "      <td>0.990000</td>\n",
              "      <td>1.010000</td>\n",
              "      <td>0.860000</td>\n",
              "      <td>0.640000</td>\n",
              "      <td>0.670000</td>\n",
              "      <td>0.790000</td>\n",
              "      <td>0.740000</td>\n",
              "    </tr>\n",
              "    <tr>\n",
              "      <th>2020-08-11 00:00:00</th>\n",
              "      <td>0.660000</td>\n",
              "      <td>0.732000</td>\n",
              "      <td>0.816000</td>\n",
              "      <td>1.008000</td>\n",
              "      <td>1.104000</td>\n",
              "      <td>1.152000</td>\n",
              "      <td>1.176000</td>\n",
              "      <td>0.900000</td>\n",
              "      <td>0.900000</td>\n",
              "      <td>0.984000</td>\n",
              "      <td>0.936000</td>\n",
              "      <td>0.756000</td>\n",
              "      <td>0.552000</td>\n",
              "      <td>1.224280</td>\n",
              "      <td>1.105880</td>\n",
              "      <td>0.444000</td>\n",
              "      <td>0.516000</td>\n",
              "      <td>1.008000</td>\n",
              "      <td>0.456000</td>\n",
              "      <td>0.924000</td>\n",
              "      <td>1.032000</td>\n",
              "      <td>1.020000</td>\n",
              "      <td>0.888000</td>\n",
              "      <td>1.236000</td>\n",
              "      <td>1.200000</td>\n",
              "      <td>1.140000</td>\n",
              "      <td>0.552000</td>\n",
              "      <td>0.624000</td>\n",
              "      <td>0.516000</td>\n",
              "      <td>0.504000</td>\n",
              "      <td>1.248000</td>\n",
              "      <td>1.092000</td>\n",
              "      <td>0.972000</td>\n",
              "      <td>1.236000</td>\n",
              "      <td>0.528000</td>\n",
              "      <td>1.068000</td>\n",
              "      <td>1.092000</td>\n",
              "      <td>1.128000</td>\n",
              "      <td>0.684000</td>\n",
              "      <td>1.032000</td>\n",
              "      <td>...</td>\n",
              "      <td>0.516000</td>\n",
              "      <td>0.888000</td>\n",
              "      <td>0.588000</td>\n",
              "      <td>0.624000</td>\n",
              "      <td>1.104000</td>\n",
              "      <td>0.924000</td>\n",
              "      <td>0.564000</td>\n",
              "      <td>0.516000</td>\n",
              "      <td>1.104000</td>\n",
              "      <td>0.852000</td>\n",
              "      <td>0.696000</td>\n",
              "      <td>0.828000</td>\n",
              "      <td>0.972000</td>\n",
              "      <td>0.936000</td>\n",
              "      <td>0.696000</td>\n",
              "      <td>0.564000</td>\n",
              "      <td>0.828000</td>\n",
              "      <td>0.564000</td>\n",
              "      <td>0.612000</td>\n",
              "      <td>0.588000</td>\n",
              "      <td>1.092000</td>\n",
              "      <td>0.744000</td>\n",
              "      <td>0.480000</td>\n",
              "      <td>0.936000</td>\n",
              "      <td>1.128000</td>\n",
              "      <td>0.456000</td>\n",
              "      <td>1.104000</td>\n",
              "      <td>1.224000</td>\n",
              "      <td>0.888000</td>\n",
              "      <td>1.188000</td>\n",
              "      <td>0.732000</td>\n",
              "      <td>0.420000</td>\n",
              "      <td>0.600000</td>\n",
              "      <td>0.888000</td>\n",
              "      <td>0.912000</td>\n",
              "      <td>0.732000</td>\n",
              "      <td>0.468000</td>\n",
              "      <td>0.504000</td>\n",
              "      <td>0.648000</td>\n",
              "      <td>0.588000</td>\n",
              "    </tr>\n",
              "    <tr>\n",
              "      <th>2020-08-12 00:00:00</th>\n",
              "      <td>0.772400</td>\n",
              "      <td>0.854480</td>\n",
              "      <td>0.950240</td>\n",
              "      <td>1.169120</td>\n",
              "      <td>1.278560</td>\n",
              "      <td>1.333280</td>\n",
              "      <td>1.360640</td>\n",
              "      <td>1.046000</td>\n",
              "      <td>1.046000</td>\n",
              "      <td>1.216309</td>\n",
              "      <td>1.087040</td>\n",
              "      <td>0.881840</td>\n",
              "      <td>0.649280</td>\n",
              "      <td>1.278560</td>\n",
              "      <td>1.141760</td>\n",
              "      <td>0.526160</td>\n",
              "      <td>0.608240</td>\n",
              "      <td>1.169120</td>\n",
              "      <td>0.539840</td>\n",
              "      <td>1.073360</td>\n",
              "      <td>1.196480</td>\n",
              "      <td>1.182800</td>\n",
              "      <td>1.032320</td>\n",
              "      <td>1.429040</td>\n",
              "      <td>1.388000</td>\n",
              "      <td>1.319600</td>\n",
              "      <td>0.649280</td>\n",
              "      <td>0.731360</td>\n",
              "      <td>0.608240</td>\n",
              "      <td>0.594560</td>\n",
              "      <td>1.442720</td>\n",
              "      <td>1.264880</td>\n",
              "      <td>1.128080</td>\n",
              "      <td>1.429040</td>\n",
              "      <td>0.621920</td>\n",
              "      <td>1.237520</td>\n",
              "      <td>1.264880</td>\n",
              "      <td>1.305920</td>\n",
              "      <td>0.799760</td>\n",
              "      <td>1.196480</td>\n",
              "      <td>...</td>\n",
              "      <td>0.608240</td>\n",
              "      <td>1.032320</td>\n",
              "      <td>0.690320</td>\n",
              "      <td>0.731360</td>\n",
              "      <td>1.278560</td>\n",
              "      <td>1.073360</td>\n",
              "      <td>0.662960</td>\n",
              "      <td>0.608240</td>\n",
              "      <td>1.278560</td>\n",
              "      <td>0.991280</td>\n",
              "      <td>0.813440</td>\n",
              "      <td>0.963920</td>\n",
              "      <td>1.128080</td>\n",
              "      <td>1.087040</td>\n",
              "      <td>0.813440</td>\n",
              "      <td>0.662960</td>\n",
              "      <td>0.963920</td>\n",
              "      <td>0.662960</td>\n",
              "      <td>0.717680</td>\n",
              "      <td>0.690320</td>\n",
              "      <td>1.264880</td>\n",
              "      <td>0.868160</td>\n",
              "      <td>0.567200</td>\n",
              "      <td>1.087040</td>\n",
              "      <td>1.305920</td>\n",
              "      <td>0.539840</td>\n",
              "      <td>1.278560</td>\n",
              "      <td>1.415360</td>\n",
              "      <td>1.032320</td>\n",
              "      <td>1.374320</td>\n",
              "      <td>0.854480</td>\n",
              "      <td>0.498800</td>\n",
              "      <td>0.704000</td>\n",
              "      <td>1.032320</td>\n",
              "      <td>1.059680</td>\n",
              "      <td>0.854480</td>\n",
              "      <td>0.553520</td>\n",
              "      <td>0.594560</td>\n",
              "      <td>0.758720</td>\n",
              "      <td>0.690320</td>\n",
              "    </tr>\n",
              "    <tr>\n",
              "      <th>2020-08-13 00:00:00</th>\n",
              "      <td>0.983224</td>\n",
              "      <td>1.086645</td>\n",
              "      <td>1.207302</td>\n",
              "      <td>1.483091</td>\n",
              "      <td>1.620986</td>\n",
              "      <td>1.689933</td>\n",
              "      <td>1.724406</td>\n",
              "      <td>1.327960</td>\n",
              "      <td>1.327960</td>\n",
              "      <td>1.448618</td>\n",
              "      <td>1.379670</td>\n",
              "      <td>1.121118</td>\n",
              "      <td>0.828093</td>\n",
              "      <td>1.620986</td>\n",
              "      <td>1.448618</td>\n",
              "      <td>0.672962</td>\n",
              "      <td>0.776382</td>\n",
              "      <td>1.483091</td>\n",
              "      <td>0.690198</td>\n",
              "      <td>1.362434</td>\n",
              "      <td>1.517565</td>\n",
              "      <td>1.331584</td>\n",
              "      <td>1.150165</td>\n",
              "      <td>1.628451</td>\n",
              "      <td>1.578973</td>\n",
              "      <td>1.496510</td>\n",
              "      <td>0.688372</td>\n",
              "      <td>0.787328</td>\n",
              "      <td>0.776382</td>\n",
              "      <td>0.759146</td>\n",
              "      <td>1.827827</td>\n",
              "      <td>1.603749</td>\n",
              "      <td>1.431381</td>\n",
              "      <td>1.810590</td>\n",
              "      <td>0.793619</td>\n",
              "      <td>1.569275</td>\n",
              "      <td>1.603749</td>\n",
              "      <td>1.655459</td>\n",
              "      <td>1.017698</td>\n",
              "      <td>1.517565</td>\n",
              "      <td>...</td>\n",
              "      <td>0.776382</td>\n",
              "      <td>1.310723</td>\n",
              "      <td>0.879803</td>\n",
              "      <td>0.931514</td>\n",
              "      <td>1.620986</td>\n",
              "      <td>1.362434</td>\n",
              "      <td>0.845330</td>\n",
              "      <td>0.776382</td>\n",
              "      <td>1.620986</td>\n",
              "      <td>1.259013</td>\n",
              "      <td>1.034934</td>\n",
              "      <td>1.224539</td>\n",
              "      <td>1.431381</td>\n",
              "      <td>1.379670</td>\n",
              "      <td>1.034934</td>\n",
              "      <td>0.845330</td>\n",
              "      <td>1.224539</td>\n",
              "      <td>0.845330</td>\n",
              "      <td>0.914277</td>\n",
              "      <td>0.879803</td>\n",
              "      <td>1.603749</td>\n",
              "      <td>1.103882</td>\n",
              "      <td>0.724672</td>\n",
              "      <td>1.379670</td>\n",
              "      <td>1.655459</td>\n",
              "      <td>0.690198</td>\n",
              "      <td>1.620986</td>\n",
              "      <td>1.793354</td>\n",
              "      <td>1.310723</td>\n",
              "      <td>1.741643</td>\n",
              "      <td>1.086645</td>\n",
              "      <td>0.638488</td>\n",
              "      <td>0.897040</td>\n",
              "      <td>1.310723</td>\n",
              "      <td>1.345197</td>\n",
              "      <td>1.086645</td>\n",
              "      <td>0.707435</td>\n",
              "      <td>0.759146</td>\n",
              "      <td>0.965987</td>\n",
              "      <td>0.879803</td>\n",
              "    </tr>\n",
              "    <tr>\n",
              "      <th>2020-08-14 00:00:00</th>\n",
              "      <td>0.901211</td>\n",
              "      <td>1.017042</td>\n",
              "      <td>1.194632</td>\n",
              "      <td>1.461062</td>\n",
              "      <td>1.615504</td>\n",
              "      <td>1.692725</td>\n",
              "      <td>1.731335</td>\n",
              "      <td>1.287315</td>\n",
              "      <td>1.287315</td>\n",
              "      <td>1.467994</td>\n",
              "      <td>1.345231</td>\n",
              "      <td>1.055653</td>\n",
              "      <td>0.727464</td>\n",
              "      <td>1.615504</td>\n",
              "      <td>1.422452</td>\n",
              "      <td>0.553717</td>\n",
              "      <td>0.669548</td>\n",
              "      <td>1.461062</td>\n",
              "      <td>0.573022</td>\n",
              "      <td>1.325926</td>\n",
              "      <td>1.499673</td>\n",
              "      <td>1.480367</td>\n",
              "      <td>1.268010</td>\n",
              "      <td>1.827861</td>\n",
              "      <td>1.769946</td>\n",
              "      <td>1.673420</td>\n",
              "      <td>0.727464</td>\n",
              "      <td>0.843295</td>\n",
              "      <td>0.669548</td>\n",
              "      <td>0.650243</td>\n",
              "      <td>1.847166</td>\n",
              "      <td>1.596199</td>\n",
              "      <td>1.403146</td>\n",
              "      <td>1.827861</td>\n",
              "      <td>0.688854</td>\n",
              "      <td>1.557588</td>\n",
              "      <td>1.596199</td>\n",
              "      <td>1.654114</td>\n",
              "      <td>0.939821</td>\n",
              "      <td>1.499673</td>\n",
              "      <td>...</td>\n",
              "      <td>0.669548</td>\n",
              "      <td>1.268010</td>\n",
              "      <td>0.785380</td>\n",
              "      <td>0.843295</td>\n",
              "      <td>1.615504</td>\n",
              "      <td>1.325926</td>\n",
              "      <td>0.746769</td>\n",
              "      <td>0.669548</td>\n",
              "      <td>1.615504</td>\n",
              "      <td>1.210094</td>\n",
              "      <td>0.959127</td>\n",
              "      <td>1.171484</td>\n",
              "      <td>1.403146</td>\n",
              "      <td>1.345231</td>\n",
              "      <td>0.959127</td>\n",
              "      <td>0.746769</td>\n",
              "      <td>1.171484</td>\n",
              "      <td>0.746769</td>\n",
              "      <td>0.823990</td>\n",
              "      <td>0.785380</td>\n",
              "      <td>1.596199</td>\n",
              "      <td>1.036347</td>\n",
              "      <td>0.611633</td>\n",
              "      <td>1.345231</td>\n",
              "      <td>1.654114</td>\n",
              "      <td>0.573022</td>\n",
              "      <td>1.615504</td>\n",
              "      <td>1.808556</td>\n",
              "      <td>1.268010</td>\n",
              "      <td>1.750640</td>\n",
              "      <td>1.017042</td>\n",
              "      <td>0.515107</td>\n",
              "      <td>0.804685</td>\n",
              "      <td>1.268010</td>\n",
              "      <td>1.306620</td>\n",
              "      <td>1.017042</td>\n",
              "      <td>0.592327</td>\n",
              "      <td>0.650243</td>\n",
              "      <td>0.881906</td>\n",
              "      <td>0.785380</td>\n",
              "    </tr>\n",
              "    <tr>\n",
              "      <th>2020-08-15 00:00:00</th>\n",
              "      <td>0.898368</td>\n",
              "      <td>1.029258</td>\n",
              "      <td>1.181962</td>\n",
              "      <td>1.531000</td>\n",
              "      <td>1.705519</td>\n",
              "      <td>1.792779</td>\n",
              "      <td>1.836409</td>\n",
              "      <td>1.334666</td>\n",
              "      <td>1.334666</td>\n",
              "      <td>1.487370</td>\n",
              "      <td>1.400111</td>\n",
              "      <td>1.072887</td>\n",
              "      <td>0.702034</td>\n",
              "      <td>1.705519</td>\n",
              "      <td>1.487370</td>\n",
              "      <td>0.505700</td>\n",
              "      <td>0.636590</td>\n",
              "      <td>1.531000</td>\n",
              "      <td>0.527515</td>\n",
              "      <td>1.378296</td>\n",
              "      <td>1.574630</td>\n",
              "      <td>1.552815</td>\n",
              "      <td>1.312851</td>\n",
              "      <td>1.945483</td>\n",
              "      <td>1.880039</td>\n",
              "      <td>1.770964</td>\n",
              "      <td>0.702034</td>\n",
              "      <td>0.832924</td>\n",
              "      <td>0.636590</td>\n",
              "      <td>0.614775</td>\n",
              "      <td>1.967298</td>\n",
              "      <td>1.683704</td>\n",
              "      <td>1.465556</td>\n",
              "      <td>1.945483</td>\n",
              "      <td>0.658404</td>\n",
              "      <td>1.640075</td>\n",
              "      <td>1.683704</td>\n",
              "      <td>1.749149</td>\n",
              "      <td>0.941998</td>\n",
              "      <td>1.574630</td>\n",
              "      <td>...</td>\n",
              "      <td>0.636590</td>\n",
              "      <td>1.312851</td>\n",
              "      <td>0.767479</td>\n",
              "      <td>0.832924</td>\n",
              "      <td>1.705519</td>\n",
              "      <td>1.378296</td>\n",
              "      <td>0.723849</td>\n",
              "      <td>0.636590</td>\n",
              "      <td>1.705519</td>\n",
              "      <td>1.247407</td>\n",
              "      <td>0.963813</td>\n",
              "      <td>1.203777</td>\n",
              "      <td>1.465556</td>\n",
              "      <td>1.400111</td>\n",
              "      <td>0.963813</td>\n",
              "      <td>0.723849</td>\n",
              "      <td>1.203777</td>\n",
              "      <td>0.723849</td>\n",
              "      <td>0.811109</td>\n",
              "      <td>0.767479</td>\n",
              "      <td>1.683704</td>\n",
              "      <td>1.051073</td>\n",
              "      <td>0.571145</td>\n",
              "      <td>1.400111</td>\n",
              "      <td>1.749149</td>\n",
              "      <td>0.527515</td>\n",
              "      <td>1.705519</td>\n",
              "      <td>1.923668</td>\n",
              "      <td>1.312851</td>\n",
              "      <td>1.858224</td>\n",
              "      <td>1.029258</td>\n",
              "      <td>0.462070</td>\n",
              "      <td>0.789294</td>\n",
              "      <td>1.312851</td>\n",
              "      <td>1.356481</td>\n",
              "      <td>1.029258</td>\n",
              "      <td>0.549330</td>\n",
              "      <td>0.614775</td>\n",
              "      <td>0.876553</td>\n",
              "      <td>0.767479</td>\n",
              "    </tr>\n",
              "  </tbody>\n",
              "</table>\n",
              "<p>6 rows × 3331 columns</p>\n",
              "</div>"
            ],
            "text/plain": [
              "                         0         1         2     ...      3328      3329      3330\n",
              "2020-08-10 00:00:00  0.800000  0.860000  0.930000  ...  0.670000  0.790000  0.740000\n",
              "2020-08-11 00:00:00  0.660000  0.732000  0.816000  ...  0.504000  0.648000  0.588000\n",
              "2020-08-12 00:00:00  0.772400  0.854480  0.950240  ...  0.594560  0.758720  0.690320\n",
              "2020-08-13 00:00:00  0.983224  1.086645  1.207302  ...  0.759146  0.965987  0.879803\n",
              "2020-08-14 00:00:00  0.901211  1.017042  1.194632  ...  0.650243  0.881906  0.785380\n",
              "2020-08-15 00:00:00  0.898368  1.029258  1.181962  ...  0.614775  0.876553  0.767479\n",
              "\n",
              "[6 rows x 3331 columns]"
            ]
          },
          "metadata": {
            "tags": []
          },
          "execution_count": 355
        }
      ]
    },
    {
      "cell_type": "code",
      "metadata": {
        "id": "rkpzuSy7oQCd",
        "colab_type": "code",
        "colab": {}
      },
      "source": [
        ""
      ],
      "execution_count": null,
      "outputs": []
    },
    {
      "cell_type": "code",
      "metadata": {
        "id": "P8R982XSNZeA",
        "colab_type": "code",
        "colab": {
          "base_uri": "https://localhost:8080/",
          "height": 234
        },
        "outputId": "0050cba1-4b20-421e-eba2-3c418484268b"
      },
      "source": [
        "test.T.info()"
      ],
      "execution_count": 356,
      "outputs": [
        {
          "output_type": "stream",
          "text": [
            "<class 'pandas.core.frame.DataFrame'>\n",
            "RangeIndex: 3331 entries, 0 to 3330\n",
            "Data columns (total 6 columns):\n",
            " #   Column               Non-Null Count  Dtype  \n",
            "---  ------               --------------  -----  \n",
            " 0   2020-08-10 00:00:00  3331 non-null   float64\n",
            " 1   2020-08-11 00:00:00  3331 non-null   float64\n",
            " 2   2020-08-12 00:00:00  3331 non-null   float64\n",
            " 3   2020-08-13 00:00:00  3331 non-null   float64\n",
            " 4   2020-08-14 00:00:00  3331 non-null   float64\n",
            " 5   2020-08-15 00:00:00  3331 non-null   float64\n",
            "dtypes: float64(6)\n",
            "memory usage: 156.3 KB\n"
          ],
          "name": "stdout"
        }
      ]
    },
    {
      "cell_type": "code",
      "metadata": {
        "id": "gQ0IHxnEoSQE",
        "colab_type": "code",
        "colab": {}
      },
      "source": [
        ""
      ],
      "execution_count": null,
      "outputs": []
    },
    {
      "cell_type": "code",
      "metadata": {
        "id": "KUvBt-erZNRV",
        "colab_type": "code",
        "colab": {
          "base_uri": "https://localhost:8080/",
          "height": 33
        },
        "outputId": "75ecffc7-672b-458d-f2a5-b650e3a94c27"
      },
      "source": [
        "test=test.T\n",
        "test.shape"
      ],
      "execution_count": 357,
      "outputs": [
        {
          "output_type": "execute_result",
          "data": {
            "text/plain": [
              "(3331, 6)"
            ]
          },
          "metadata": {
            "tags": []
          },
          "execution_count": 357
        }
      ]
    },
    {
      "cell_type": "code",
      "metadata": {
        "id": "kwR6aMcXdCi1",
        "colab_type": "code",
        "colab": {
          "base_uri": "https://localhost:8080/",
          "height": 213
        },
        "outputId": "874d191e-945a-40bf-9153-72cf3482ea01"
      },
      "source": [
        "#test=pd.concat([SI,test],axis=1)\n",
        "test.head()"
      ],
      "execution_count": 358,
      "outputs": [
        {
          "output_type": "execute_result",
          "data": {
            "text/html": [
              "<div>\n",
              "<style scoped>\n",
              "    .dataframe tbody tr th:only-of-type {\n",
              "        vertical-align: middle;\n",
              "    }\n",
              "\n",
              "    .dataframe tbody tr th {\n",
              "        vertical-align: top;\n",
              "    }\n",
              "\n",
              "    .dataframe thead th {\n",
              "        text-align: right;\n",
              "    }\n",
              "</style>\n",
              "<table border=\"1\" class=\"dataframe\">\n",
              "  <thead>\n",
              "    <tr style=\"text-align: right;\">\n",
              "      <th></th>\n",
              "      <th>2020-08-10 00:00:00</th>\n",
              "      <th>2020-08-11 00:00:00</th>\n",
              "      <th>2020-08-12 00:00:00</th>\n",
              "      <th>2020-08-13 00:00:00</th>\n",
              "      <th>2020-08-14 00:00:00</th>\n",
              "      <th>2020-08-15 00:00:00</th>\n",
              "    </tr>\n",
              "  </thead>\n",
              "  <tbody>\n",
              "    <tr>\n",
              "      <th>0</th>\n",
              "      <td>0.800</td>\n",
              "      <td>0.660</td>\n",
              "      <td>0.77240</td>\n",
              "      <td>0.983224</td>\n",
              "      <td>0.901211</td>\n",
              "      <td>0.898368</td>\n",
              "    </tr>\n",
              "    <tr>\n",
              "      <th>1</th>\n",
              "      <td>0.860</td>\n",
              "      <td>0.732</td>\n",
              "      <td>0.85448</td>\n",
              "      <td>1.086645</td>\n",
              "      <td>1.017042</td>\n",
              "      <td>1.029258</td>\n",
              "    </tr>\n",
              "    <tr>\n",
              "      <th>2</th>\n",
              "      <td>0.930</td>\n",
              "      <td>0.816</td>\n",
              "      <td>0.95024</td>\n",
              "      <td>1.207302</td>\n",
              "      <td>1.194632</td>\n",
              "      <td>1.181962</td>\n",
              "    </tr>\n",
              "    <tr>\n",
              "      <th>3</th>\n",
              "      <td>1.090</td>\n",
              "      <td>1.008</td>\n",
              "      <td>1.16912</td>\n",
              "      <td>1.483091</td>\n",
              "      <td>1.461062</td>\n",
              "      <td>1.531000</td>\n",
              "    </tr>\n",
              "    <tr>\n",
              "      <th>4</th>\n",
              "      <td>1.104</td>\n",
              "      <td>1.104</td>\n",
              "      <td>1.27856</td>\n",
              "      <td>1.620986</td>\n",
              "      <td>1.615504</td>\n",
              "      <td>1.705519</td>\n",
              "    </tr>\n",
              "  </tbody>\n",
              "</table>\n",
              "</div>"
            ],
            "text/plain": [
              "   2020-08-10  ...  2020-08-15\n",
              "0       0.800  ...    0.898368\n",
              "1       0.860  ...    1.029258\n",
              "2       0.930  ...    1.181962\n",
              "3       1.090  ...    1.531000\n",
              "4       1.104  ...    1.705519\n",
              "\n",
              "[5 rows x 6 columns]"
            ]
          },
          "metadata": {
            "tags": []
          },
          "execution_count": 358
        }
      ]
    },
    {
      "cell_type": "code",
      "metadata": {
        "id": "f_fNeXVZdQWM",
        "colab_type": "code",
        "colab": {
          "base_uri": "https://localhost:8080/",
          "height": 251
        },
        "outputId": "55286b88-7c89-4251-b60e-b9041a2d5645"
      },
      "source": [
        "print(test.shape)\n",
        "test.info()"
      ],
      "execution_count": 359,
      "outputs": [
        {
          "output_type": "stream",
          "text": [
            "(3331, 6)\n",
            "<class 'pandas.core.frame.DataFrame'>\n",
            "RangeIndex: 3331 entries, 0 to 3330\n",
            "Data columns (total 6 columns):\n",
            " #   Column               Non-Null Count  Dtype  \n",
            "---  ------               --------------  -----  \n",
            " 0   2020-08-10 00:00:00  3331 non-null   float64\n",
            " 1   2020-08-11 00:00:00  3331 non-null   float64\n",
            " 2   2020-08-12 00:00:00  3331 non-null   float64\n",
            " 3   2020-08-13 00:00:00  3331 non-null   float64\n",
            " 4   2020-08-14 00:00:00  3331 non-null   float64\n",
            " 5   2020-08-15 00:00:00  3331 non-null   float64\n",
            "dtypes: float64(6)\n",
            "memory usage: 156.3 KB\n"
          ],
          "name": "stdout"
        }
      ]
    },
    {
      "cell_type": "markdown",
      "metadata": {
        "id": "I5opNOEnZGHe",
        "colab_type": "text"
      },
      "source": [
        "**model**"
      ]
    },
    {
      "cell_type": "code",
      "metadata": {
        "id": "v7eIsj80dPtM",
        "colab_type": "code",
        "colab": {}
      },
      "source": [
        ""
      ],
      "execution_count": null,
      "outputs": []
    },
    {
      "cell_type": "code",
      "metadata": {
        "id": "PfUo2HmVMPeB",
        "colab_type": "code",
        "colab": {}
      },
      "source": [
        "\n",
        "# split a univariate sequence into samples\n",
        "def split_sequence(data, n_steps):\n",
        "  \n",
        "  X, y = list(), list()\n",
        "  for k in range(data.shape[0]):\n",
        "    sequence = data.iloc[k,:]\n",
        "    for i in range(len(sequence)):\n",
        "      # find the end of this pattern\n",
        "      end_ix = i + n_steps\n",
        "      # check if we are beyond the sequence\n",
        "      if end_ix > len(sequence)-1:\n",
        "        break\n",
        "      # gather input and output parts of the pattern\n",
        "      seq_x, seq_y = sequence[i:end_ix], sequence[end_ix]\n",
        "      X.append(seq_x)\n",
        "      y.append(seq_y)\n",
        "  return np.array(X), np.array(y)"
      ],
      "execution_count": 360,
      "outputs": []
    },
    {
      "cell_type": "code",
      "metadata": {
        "id": "mxJCG0jsZ8oE",
        "colab_type": "code",
        "colab": {
          "base_uri": "https://localhost:8080/",
          "height": 134
        },
        "outputId": "2d39d2e0-cc19-4860-fefc-5a308ea42188"
      },
      "source": [
        "X,y = split_sequence(test,4)\n",
        "X"
      ],
      "execution_count": 361,
      "outputs": [
        {
          "output_type": "execute_result",
          "data": {
            "text/plain": [
              "array([[0.8       , 0.66      , 0.7724    , 0.983224  ],\n",
              "       [0.66      , 0.7724    , 0.983224  , 0.90121088],\n",
              "       [0.86      , 0.732     , 0.85448   , 1.0866448 ],\n",
              "       ...,\n",
              "       [0.648     , 0.75872   , 0.9659872 , 0.88190566],\n",
              "       [0.74      , 0.588     , 0.69032   , 0.8798032 ],\n",
              "       [0.588     , 0.69032   , 0.8798032 , 0.78537958]])"
            ]
          },
          "metadata": {
            "tags": []
          },
          "execution_count": 361
        }
      ]
    },
    {
      "cell_type": "code",
      "metadata": {
        "id": "x9uwfNr_aDob",
        "colab_type": "code",
        "colab": {
          "base_uri": "https://localhost:8080/",
          "height": 33
        },
        "outputId": "8909c7ce-1a47-4400-a57b-83f8ff62b50d"
      },
      "source": [
        "X.shape"
      ],
      "execution_count": 362,
      "outputs": [
        {
          "output_type": "execute_result",
          "data": {
            "text/plain": [
              "(6662, 4)"
            ]
          },
          "metadata": {
            "tags": []
          },
          "execution_count": 362
        }
      ]
    },
    {
      "cell_type": "code",
      "metadata": {
        "id": "y0X3vVRPaDrz",
        "colab_type": "code",
        "colab": {
          "base_uri": "https://localhost:8080/",
          "height": 50
        },
        "outputId": "d1fefada-d75b-411a-e143-62c1df4c558b"
      },
      "source": [
        "y.shape\n",
        "y"
      ],
      "execution_count": 363,
      "outputs": [
        {
          "output_type": "execute_result",
          "data": {
            "text/plain": [
              "array([0.90121088, 0.89836829, 1.01704218, ..., 0.8765534 , 0.78537958,\n",
              "       0.76747893])"
            ]
          },
          "metadata": {
            "tags": []
          },
          "execution_count": 363
        }
      ]
    },
    {
      "cell_type": "code",
      "metadata": {
        "id": "hNFzQsn7aF2W",
        "colab_type": "code",
        "colab": {}
      },
      "source": [
        "from keras.models import Sequential\n",
        "from keras.layers import Dense,LSTM\n",
        "from keras.layers import Dropout"
      ],
      "execution_count": 364,
      "outputs": []
    },
    {
      "cell_type": "code",
      "metadata": {
        "id": "olIhqUIhaQb-",
        "colab_type": "code",
        "colab": {}
      },
      "source": [
        "X = X.reshape((X.shape[0], X.shape[1], 1))"
      ],
      "execution_count": 365,
      "outputs": []
    },
    {
      "cell_type": "code",
      "metadata": {
        "id": "_MINhtdGaSXP",
        "colab_type": "code",
        "colab": {
          "base_uri": "https://localhost:8080/",
          "height": 318
        },
        "outputId": "1519136a-914e-4235-863d-000c101ceb6e"
      },
      "source": [
        "model = Sequential()\n",
        "model.add(LSTM(40, activation='relu', return_sequences=True,input_shape=(4, 1)))\n",
        "model.add(Dropout(0.2))\n",
        "model.add(LSTM(40, activation='relu'))\n",
        "model.add(Dropout(0.2))\n",
        "model.add(Dense(1))\n",
        "model.compile(optimizer='adam', loss='mse')\n",
        "model.summary()"
      ],
      "execution_count": 367,
      "outputs": [
        {
          "output_type": "stream",
          "text": [
            "Model: \"sequential_21\"\n",
            "_________________________________________________________________\n",
            "Layer (type)                 Output Shape              Param #   \n",
            "=================================================================\n",
            "lstm_54 (LSTM)               (None, 4, 40)             6720      \n",
            "_________________________________________________________________\n",
            "dropout_35 (Dropout)         (None, 4, 40)             0         \n",
            "_________________________________________________________________\n",
            "lstm_55 (LSTM)               (None, 40)                12960     \n",
            "_________________________________________________________________\n",
            "dropout_36 (Dropout)         (None, 40)                0         \n",
            "_________________________________________________________________\n",
            "dense_18 (Dense)             (None, 1)                 41        \n",
            "=================================================================\n",
            "Total params: 19,721\n",
            "Trainable params: 19,721\n",
            "Non-trainable params: 0\n",
            "_________________________________________________________________\n"
          ],
          "name": "stdout"
        }
      ]
    },
    {
      "cell_type": "code",
      "metadata": {
        "id": "JTxIHqUYaZMy",
        "colab_type": "code",
        "colab": {
          "base_uri": "https://localhost:8080/",
          "height": 702
        },
        "outputId": "7d3ca406-b0ba-48a6-bd87-3161199ff120"
      },
      "source": [
        "model.fit(X, y, epochs=20, verbose=1)"
      ],
      "execution_count": 368,
      "outputs": [
        {
          "output_type": "stream",
          "text": [
            "Epoch 1/20\n",
            "209/209 [==============================] - 1s 5ms/step - loss: 0.2727\n",
            "Epoch 2/20\n",
            "209/209 [==============================] - 1s 5ms/step - loss: 0.0365\n",
            "Epoch 3/20\n",
            "209/209 [==============================] - 1s 4ms/step - loss: 0.0284\n",
            "Epoch 4/20\n",
            "209/209 [==============================] - 1s 4ms/step - loss: 0.0228\n",
            "Epoch 5/20\n",
            "209/209 [==============================] - 1s 4ms/step - loss: 0.0220\n",
            "Epoch 6/20\n",
            "209/209 [==============================] - 1s 5ms/step - loss: 0.0208\n",
            "Epoch 7/20\n",
            "209/209 [==============================] - 1s 5ms/step - loss: 0.0196\n",
            "Epoch 8/20\n",
            "209/209 [==============================] - 1s 4ms/step - loss: 0.0192\n",
            "Epoch 9/20\n",
            "209/209 [==============================] - 1s 5ms/step - loss: 0.0185\n",
            "Epoch 10/20\n",
            "209/209 [==============================] - 1s 4ms/step - loss: 0.0167\n",
            "Epoch 11/20\n",
            "209/209 [==============================] - 1s 5ms/step - loss: 0.0161\n",
            "Epoch 12/20\n",
            "209/209 [==============================] - 1s 4ms/step - loss: 0.0160\n",
            "Epoch 13/20\n",
            "209/209 [==============================] - 1s 4ms/step - loss: 0.0149\n",
            "Epoch 14/20\n",
            "209/209 [==============================] - 1s 5ms/step - loss: 0.0138\n",
            "Epoch 15/20\n",
            "209/209 [==============================] - 1s 5ms/step - loss: 0.0131\n",
            "Epoch 16/20\n",
            "209/209 [==============================] - 1s 4ms/step - loss: 0.0126\n",
            "Epoch 17/20\n",
            "209/209 [==============================] - 1s 5ms/step - loss: 0.0122\n",
            "Epoch 18/20\n",
            "209/209 [==============================] - 1s 5ms/step - loss: 0.0115\n",
            "Epoch 19/20\n",
            "209/209 [==============================] - 1s 4ms/step - loss: 0.0108\n",
            "Epoch 20/20\n",
            "209/209 [==============================] - 1s 4ms/step - loss: 0.0103\n"
          ],
          "name": "stdout"
        },
        {
          "output_type": "execute_result",
          "data": {
            "text/plain": [
              "<tensorflow.python.keras.callbacks.History at 0x7f469d0f2eb8>"
            ]
          },
          "metadata": {
            "tags": []
          },
          "execution_count": 368
        }
      ]
    },
    {
      "cell_type": "code",
      "metadata": {
        "id": "xkKUeYZcadsS",
        "colab_type": "code",
        "colab": {
          "base_uri": "https://localhost:8080/",
          "height": 213
        },
        "outputId": "ca22e3d7-6927-4fc5-fb72-c3fe94aefda2"
      },
      "source": [
        "X_t = test.iloc[:,2:].values\n",
        "test.head()"
      ],
      "execution_count": 369,
      "outputs": [
        {
          "output_type": "execute_result",
          "data": {
            "text/html": [
              "<div>\n",
              "<style scoped>\n",
              "    .dataframe tbody tr th:only-of-type {\n",
              "        vertical-align: middle;\n",
              "    }\n",
              "\n",
              "    .dataframe tbody tr th {\n",
              "        vertical-align: top;\n",
              "    }\n",
              "\n",
              "    .dataframe thead th {\n",
              "        text-align: right;\n",
              "    }\n",
              "</style>\n",
              "<table border=\"1\" class=\"dataframe\">\n",
              "  <thead>\n",
              "    <tr style=\"text-align: right;\">\n",
              "      <th></th>\n",
              "      <th>2020-08-10 00:00:00</th>\n",
              "      <th>2020-08-11 00:00:00</th>\n",
              "      <th>2020-08-12 00:00:00</th>\n",
              "      <th>2020-08-13 00:00:00</th>\n",
              "      <th>2020-08-14 00:00:00</th>\n",
              "      <th>2020-08-15 00:00:00</th>\n",
              "    </tr>\n",
              "  </thead>\n",
              "  <tbody>\n",
              "    <tr>\n",
              "      <th>0</th>\n",
              "      <td>0.800</td>\n",
              "      <td>0.660</td>\n",
              "      <td>0.77240</td>\n",
              "      <td>0.983224</td>\n",
              "      <td>0.901211</td>\n",
              "      <td>0.898368</td>\n",
              "    </tr>\n",
              "    <tr>\n",
              "      <th>1</th>\n",
              "      <td>0.860</td>\n",
              "      <td>0.732</td>\n",
              "      <td>0.85448</td>\n",
              "      <td>1.086645</td>\n",
              "      <td>1.017042</td>\n",
              "      <td>1.029258</td>\n",
              "    </tr>\n",
              "    <tr>\n",
              "      <th>2</th>\n",
              "      <td>0.930</td>\n",
              "      <td>0.816</td>\n",
              "      <td>0.95024</td>\n",
              "      <td>1.207302</td>\n",
              "      <td>1.194632</td>\n",
              "      <td>1.181962</td>\n",
              "    </tr>\n",
              "    <tr>\n",
              "      <th>3</th>\n",
              "      <td>1.090</td>\n",
              "      <td>1.008</td>\n",
              "      <td>1.16912</td>\n",
              "      <td>1.483091</td>\n",
              "      <td>1.461062</td>\n",
              "      <td>1.531000</td>\n",
              "    </tr>\n",
              "    <tr>\n",
              "      <th>4</th>\n",
              "      <td>1.104</td>\n",
              "      <td>1.104</td>\n",
              "      <td>1.27856</td>\n",
              "      <td>1.620986</td>\n",
              "      <td>1.615504</td>\n",
              "      <td>1.705519</td>\n",
              "    </tr>\n",
              "  </tbody>\n",
              "</table>\n",
              "</div>"
            ],
            "text/plain": [
              "   2020-08-10  ...  2020-08-15\n",
              "0       0.800  ...    0.898368\n",
              "1       0.860  ...    1.029258\n",
              "2       0.930  ...    1.181962\n",
              "3       1.090  ...    1.531000\n",
              "4       1.104  ...    1.705519\n",
              "\n",
              "[5 rows x 6 columns]"
            ]
          },
          "metadata": {
            "tags": []
          },
          "execution_count": 369
        }
      ]
    },
    {
      "cell_type": "code",
      "metadata": {
        "id": "g0GqwgQTcmNA",
        "colab_type": "code",
        "colab": {
          "base_uri": "https://localhost:8080/",
          "height": 33
        },
        "outputId": "fdb011ee-3eb6-4276-89ec-c2723b960507"
      },
      "source": [
        "X_t.shape"
      ],
      "execution_count": 370,
      "outputs": [
        {
          "output_type": "execute_result",
          "data": {
            "text/plain": [
              "(3331, 4)"
            ]
          },
          "metadata": {
            "tags": []
          },
          "execution_count": 370
        }
      ]
    },
    {
      "cell_type": "code",
      "metadata": {
        "id": "fOKOPsoLcmQo",
        "colab_type": "code",
        "colab": {
          "base_uri": "https://localhost:8080/",
          "height": 134
        },
        "outputId": "74fe6005-b8d5-429c-91c1-e709149b8174"
      },
      "source": [
        "X_t"
      ],
      "execution_count": 371,
      "outputs": [
        {
          "output_type": "execute_result",
          "data": {
            "text/plain": [
              "array([[0.7724    , 0.983224  , 0.90121088, 0.89836829],\n",
              "       [0.85448   , 1.0866448 , 1.01704218, 1.02925766],\n",
              "       [0.95024   , 1.2073024 , 1.19463216, 1.18196192],\n",
              "       ...,\n",
              "       [0.59456   , 0.7591456 , 0.65024307, 0.61477467],\n",
              "       [0.75872   , 0.9659872 , 0.88190566, 0.8765534 ],\n",
              "       [0.69032   , 0.8798032 , 0.78537958, 0.76747893]])"
            ]
          },
          "metadata": {
            "tags": []
          },
          "execution_count": 371
        }
      ]
    },
    {
      "cell_type": "code",
      "metadata": {
        "id": "v-XLjiy5i9Bg",
        "colab_type": "code",
        "colab": {
          "base_uri": "https://localhost:8080/",
          "height": 33
        },
        "outputId": "2f5e1942-1286-443c-8084-fe85503b5ea2"
      },
      "source": [
        "X_t = X_t.reshape(X_t.shape[0],4,1)\n",
        "X_t.shape"
      ],
      "execution_count": 373,
      "outputs": [
        {
          "output_type": "execute_result",
          "data": {
            "text/plain": [
              "(3331, 4, 1)"
            ]
          },
          "metadata": {
            "tags": []
          },
          "execution_count": 373
        }
      ]
    },
    {
      "cell_type": "code",
      "metadata": {
        "id": "rxFk1pWliblA",
        "colab_type": "code",
        "colab": {
          "base_uri": "https://localhost:8080/",
          "height": 134
        },
        "outputId": "3d45aa72-2d6b-41ff-ed4f-fafbfab9c439"
      },
      "source": [
        "model.predict(X_t)"
      ],
      "execution_count": 219,
      "outputs": [
        {
          "output_type": "execute_result",
          "data": {
            "text/plain": [
              "array([[1.2069603],\n",
              "       [1.3782158],\n",
              "       [1.5451423],\n",
              "       ...,\n",
              "       [0.8452974],\n",
              "       [1.1786172],\n",
              "       [1.0378606]], dtype=float32)"
            ]
          },
          "metadata": {
            "tags": []
          },
          "execution_count": 219
        }
      ]
    },
    {
      "cell_type": "code",
      "metadata": {
        "id": "XVTZo22PsCTO",
        "colab_type": "code",
        "colab": {
          "base_uri": "https://localhost:8080/",
          "height": 134
        },
        "outputId": "9e532aa0-e4b6-4948-ba2f-e8185cb8599b"
      },
      "source": [
        "model.predict(X_t)"
      ],
      "execution_count": 374,
      "outputs": [
        {
          "output_type": "execute_result",
          "data": {
            "text/plain": [
              "array([[1.0835873 ],\n",
              "       [1.2203355 ],\n",
              "       [1.3956534 ],\n",
              "       ...,\n",
              "       [0.73761004],\n",
              "       [1.0576675 ],\n",
              "       [0.9280465 ]], dtype=float32)"
            ]
          },
          "metadata": {
            "tags": []
          },
          "execution_count": 374
        }
      ]
    },
    {
      "cell_type": "code",
      "metadata": {
        "id": "feh7p8tHiyIc",
        "colab_type": "code",
        "colab": {}
      },
      "source": [
        "test['2020-08-16 00:00:00'] = model.predict(X_t)"
      ],
      "execution_count": 375,
      "outputs": []
    },
    {
      "cell_type": "code",
      "metadata": {
        "id": "CUlOJLI0jUuY",
        "colab_type": "code",
        "colab": {
          "base_uri": "https://localhost:8080/",
          "height": 33
        },
        "outputId": "9e3a2251-3f4c-419b-8f23-d50a6f7a4a55"
      },
      "source": [
        "test.shape"
      ],
      "execution_count": 376,
      "outputs": [
        {
          "output_type": "execute_result",
          "data": {
            "text/plain": [
              "(3331, 7)"
            ]
          },
          "metadata": {
            "tags": []
          },
          "execution_count": 376
        }
      ]
    },
    {
      "cell_type": "code",
      "metadata": {
        "id": "7-35Zsvgja-s",
        "colab_type": "code",
        "colab": {
          "base_uri": "https://localhost:8080/",
          "height": 196
        },
        "outputId": "f50d8adc-cc9b-40b3-c887-73f3f4b1a05d"
      },
      "source": [
        "sub=pd.concat([SI,test['2020-08-16 00:00:00']],axis=1)\n",
        "sub.head()"
      ],
      "execution_count": 379,
      "outputs": [
        {
          "output_type": "execute_result",
          "data": {
            "text/html": [
              "<div>\n",
              "<style scoped>\n",
              "    .dataframe tbody tr th:only-of-type {\n",
              "        vertical-align: middle;\n",
              "    }\n",
              "\n",
              "    .dataframe tbody tr th {\n",
              "        vertical-align: top;\n",
              "    }\n",
              "\n",
              "    .dataframe thead th {\n",
              "        text-align: right;\n",
              "    }\n",
              "</style>\n",
              "<table border=\"1\" class=\"dataframe\">\n",
              "  <thead>\n",
              "    <tr style=\"text-align: right;\">\n",
              "      <th></th>\n",
              "      <th>Stock Index</th>\n",
              "      <th>2020-08-16 00:00:00</th>\n",
              "    </tr>\n",
              "  </thead>\n",
              "  <tbody>\n",
              "    <tr>\n",
              "      <th>0</th>\n",
              "      <td>AC3235</td>\n",
              "      <td>1.083587</td>\n",
              "    </tr>\n",
              "    <tr>\n",
              "      <th>1</th>\n",
              "      <td>AC3236</td>\n",
              "      <td>1.220335</td>\n",
              "    </tr>\n",
              "    <tr>\n",
              "      <th>2</th>\n",
              "      <td>AC3237</td>\n",
              "      <td>1.395653</td>\n",
              "    </tr>\n",
              "    <tr>\n",
              "      <th>3</th>\n",
              "      <td>AC3238</td>\n",
              "      <td>1.787674</td>\n",
              "    </tr>\n",
              "    <tr>\n",
              "      <th>4</th>\n",
              "      <td>AC3239</td>\n",
              "      <td>1.965518</td>\n",
              "    </tr>\n",
              "  </tbody>\n",
              "</table>\n",
              "</div>"
            ],
            "text/plain": [
              "  Stock Index  2020-08-16 00:00:00\n",
              "0      AC3235             1.083587\n",
              "1      AC3236             1.220335\n",
              "2      AC3237             1.395653\n",
              "3      AC3238             1.787674\n",
              "4      AC3239             1.965518"
            ]
          },
          "metadata": {
            "tags": []
          },
          "execution_count": 379
        }
      ]
    },
    {
      "cell_type": "code",
      "metadata": {
        "id": "w_eAh3GIxWiV",
        "colab_type": "code",
        "colab": {}
      },
      "source": [
        ""
      ],
      "execution_count": null,
      "outputs": []
    },
    {
      "cell_type": "code",
      "metadata": {
        "id": "AGusKTKckN-t",
        "colab_type": "code",
        "colab": {}
      },
      "source": [
        "sub.to_csv('pcr2.csv')"
      ],
      "execution_count": 380,
      "outputs": []
    },
    {
      "cell_type": "markdown",
      "metadata": {
        "id": "1GbjIfdYzVOw",
        "colab_type": "text"
      },
      "source": [
        "**verification**"
      ]
    },
    {
      "cell_type": "code",
      "metadata": {
        "id": "GbngggP9lGN4",
        "colab_type": "code",
        "colab": {
          "base_uri": "https://localhost:8080/",
          "height": 421
        },
        "outputId": "3c2b6b39-2872-41b5-f51e-b285365bbf33"
      },
      "source": [
        "pd.concat([SI,test],axis=1)"
      ],
      "execution_count": 378,
      "outputs": [
        {
          "output_type": "execute_result",
          "data": {
            "text/html": [
              "<div>\n",
              "<style scoped>\n",
              "    .dataframe tbody tr th:only-of-type {\n",
              "        vertical-align: middle;\n",
              "    }\n",
              "\n",
              "    .dataframe tbody tr th {\n",
              "        vertical-align: top;\n",
              "    }\n",
              "\n",
              "    .dataframe thead th {\n",
              "        text-align: right;\n",
              "    }\n",
              "</style>\n",
              "<table border=\"1\" class=\"dataframe\">\n",
              "  <thead>\n",
              "    <tr style=\"text-align: right;\">\n",
              "      <th></th>\n",
              "      <th>Stock Index</th>\n",
              "      <th>2020-08-10 00:00:00</th>\n",
              "      <th>2020-08-11 00:00:00</th>\n",
              "      <th>2020-08-12 00:00:00</th>\n",
              "      <th>2020-08-13 00:00:00</th>\n",
              "      <th>2020-08-14 00:00:00</th>\n",
              "      <th>2020-08-15 00:00:00</th>\n",
              "      <th>2020-08-16 00:00:00</th>\n",
              "    </tr>\n",
              "  </thead>\n",
              "  <tbody>\n",
              "    <tr>\n",
              "      <th>0</th>\n",
              "      <td>AC3235</td>\n",
              "      <td>0.800</td>\n",
              "      <td>0.660</td>\n",
              "      <td>0.77240</td>\n",
              "      <td>0.983224</td>\n",
              "      <td>0.901211</td>\n",
              "      <td>0.898368</td>\n",
              "      <td>1.083587</td>\n",
              "    </tr>\n",
              "    <tr>\n",
              "      <th>1</th>\n",
              "      <td>AC3236</td>\n",
              "      <td>0.860</td>\n",
              "      <td>0.732</td>\n",
              "      <td>0.85448</td>\n",
              "      <td>1.086645</td>\n",
              "      <td>1.017042</td>\n",
              "      <td>1.029258</td>\n",
              "      <td>1.220335</td>\n",
              "    </tr>\n",
              "    <tr>\n",
              "      <th>2</th>\n",
              "      <td>AC3237</td>\n",
              "      <td>0.930</td>\n",
              "      <td>0.816</td>\n",
              "      <td>0.95024</td>\n",
              "      <td>1.207302</td>\n",
              "      <td>1.194632</td>\n",
              "      <td>1.181962</td>\n",
              "      <td>1.395653</td>\n",
              "    </tr>\n",
              "    <tr>\n",
              "      <th>3</th>\n",
              "      <td>AC3238</td>\n",
              "      <td>1.090</td>\n",
              "      <td>1.008</td>\n",
              "      <td>1.16912</td>\n",
              "      <td>1.483091</td>\n",
              "      <td>1.461062</td>\n",
              "      <td>1.531000</td>\n",
              "      <td>1.787674</td>\n",
              "    </tr>\n",
              "    <tr>\n",
              "      <th>4</th>\n",
              "      <td>AC3239</td>\n",
              "      <td>1.104</td>\n",
              "      <td>1.104</td>\n",
              "      <td>1.27856</td>\n",
              "      <td>1.620986</td>\n",
              "      <td>1.615504</td>\n",
              "      <td>1.705519</td>\n",
              "      <td>1.965518</td>\n",
              "    </tr>\n",
              "    <tr>\n",
              "      <th>...</th>\n",
              "      <td>...</td>\n",
              "      <td>...</td>\n",
              "      <td>...</td>\n",
              "      <td>...</td>\n",
              "      <td>...</td>\n",
              "      <td>...</td>\n",
              "      <td>...</td>\n",
              "      <td>...</td>\n",
              "    </tr>\n",
              "    <tr>\n",
              "      <th>3326</th>\n",
              "      <td>AD2734</td>\n",
              "      <td>0.860</td>\n",
              "      <td>0.732</td>\n",
              "      <td>0.85448</td>\n",
              "      <td>1.086645</td>\n",
              "      <td>1.017042</td>\n",
              "      <td>1.029258</td>\n",
              "      <td>1.220335</td>\n",
              "    </tr>\n",
              "    <tr>\n",
              "      <th>3327</th>\n",
              "      <td>AD2735</td>\n",
              "      <td>0.640</td>\n",
              "      <td>0.468</td>\n",
              "      <td>0.55352</td>\n",
              "      <td>0.707435</td>\n",
              "      <td>0.592327</td>\n",
              "      <td>0.549330</td>\n",
              "      <td>0.668787</td>\n",
              "    </tr>\n",
              "    <tr>\n",
              "      <th>3328</th>\n",
              "      <td>AD2736</td>\n",
              "      <td>0.670</td>\n",
              "      <td>0.504</td>\n",
              "      <td>0.59456</td>\n",
              "      <td>0.759146</td>\n",
              "      <td>0.650243</td>\n",
              "      <td>0.614775</td>\n",
              "      <td>0.737610</td>\n",
              "    </tr>\n",
              "    <tr>\n",
              "      <th>3329</th>\n",
              "      <td>AD2737</td>\n",
              "      <td>0.790</td>\n",
              "      <td>0.648</td>\n",
              "      <td>0.75872</td>\n",
              "      <td>0.965987</td>\n",
              "      <td>0.881906</td>\n",
              "      <td>0.876553</td>\n",
              "      <td>1.057667</td>\n",
              "    </tr>\n",
              "    <tr>\n",
              "      <th>3330</th>\n",
              "      <td>AD2738</td>\n",
              "      <td>0.740</td>\n",
              "      <td>0.588</td>\n",
              "      <td>0.69032</td>\n",
              "      <td>0.879803</td>\n",
              "      <td>0.785380</td>\n",
              "      <td>0.767479</td>\n",
              "      <td>0.928047</td>\n",
              "    </tr>\n",
              "  </tbody>\n",
              "</table>\n",
              "<p>3331 rows × 8 columns</p>\n",
              "</div>"
            ],
            "text/plain": [
              "     Stock Index  2020-08-10 00:00:00  ...  2020-08-15 00:00:00  2020-08-16 00:00:00\n",
              "0         AC3235                0.800  ...             0.898368             1.083587\n",
              "1         AC3236                0.860  ...             1.029258             1.220335\n",
              "2         AC3237                0.930  ...             1.181962             1.395653\n",
              "3         AC3238                1.090  ...             1.531000             1.787674\n",
              "4         AC3239                1.104  ...             1.705519             1.965518\n",
              "...          ...                  ...  ...                  ...                  ...\n",
              "3326      AD2734                0.860  ...             1.029258             1.220335\n",
              "3327      AD2735                0.640  ...             0.549330             0.668787\n",
              "3328      AD2736                0.670  ...             0.614775             0.737610\n",
              "3329      AD2737                0.790  ...             0.876553             1.057667\n",
              "3330      AD2738                0.740  ...             0.767479             0.928047\n",
              "\n",
              "[3331 rows x 8 columns]"
            ]
          },
          "metadata": {
            "tags": []
          },
          "execution_count": 378
        }
      ]
    },
    {
      "cell_type": "code",
      "metadata": {
        "id": "paGwOzqHyPQz",
        "colab_type": "code",
        "colab": {
          "base_uri": "https://localhost:8080/",
          "height": 33
        },
        "outputId": "2c6ca7c8-56cd-4d3c-c9ab-02362acd8f83"
      },
      "source": [
        "from sklearn.metrics import mean_squared_error ,explained_variance_score\n",
        "explained_variance_score(test[test.columns[1]],test[test.columns[2]])"
      ],
      "execution_count": 392,
      "outputs": [
        {
          "output_type": "execute_result",
          "data": {
            "text/plain": [
              "0.9786488728471555"
            ]
          },
          "metadata": {
            "tags": []
          },
          "execution_count": 392
        }
      ]
    },
    {
      "cell_type": "code",
      "metadata": {
        "id": "n7lVcyuNyPbB",
        "colab_type": "code",
        "colab": {
          "base_uri": "https://localhost:8080/",
          "height": 33
        },
        "outputId": "26c805b6-df28-4855-8409-a87d73600314"
      },
      "source": [
        "explained_variance_score(test[test.columns[2]],test[test.columns[3]])"
      ],
      "execution_count": 393,
      "outputs": [
        {
          "output_type": "execute_result",
          "data": {
            "text/plain": [
              "0.9306598474582783"
            ]
          },
          "metadata": {
            "tags": []
          },
          "execution_count": 393
        }
      ]
    },
    {
      "cell_type": "code",
      "metadata": {
        "id": "9X8QFRZuvoGw",
        "colab_type": "code",
        "colab": {
          "base_uri": "https://localhost:8080/",
          "height": 33
        },
        "outputId": "1e194466-8a34-4b18-9fc7-d1f5cddb44bd"
      },
      "source": [
        "from sklearn.metrics import mean_squared_error\n",
        "explained_variance_score(test[test.columns[3]],test[test.columns[4]])"
      ],
      "execution_count": 394,
      "outputs": [
        {
          "output_type": "execute_result",
          "data": {
            "text/plain": [
              "0.9842037608759393"
            ]
          },
          "metadata": {
            "tags": []
          },
          "execution_count": 394
        }
      ]
    },
    {
      "cell_type": "code",
      "metadata": {
        "id": "PyoRR46BxXfb",
        "colab_type": "code",
        "colab": {
          "base_uri": "https://localhost:8080/",
          "height": 33
        },
        "outputId": "d3c5df47-1aa7-47de-8375-d84dbee820ac"
      },
      "source": [
        "explained_variance_score(test[test.columns[4]],test[test.columns[5]])"
      ],
      "execution_count": 395,
      "outputs": [
        {
          "output_type": "execute_result",
          "data": {
            "text/plain": [
              "0.9837561859694512"
            ]
          },
          "metadata": {
            "tags": []
          },
          "execution_count": 395
        }
      ]
    },
    {
      "cell_type": "code",
      "metadata": {
        "id": "BqQhynsjyHVV",
        "colab_type": "code",
        "colab": {
          "base_uri": "https://localhost:8080/",
          "height": 33
        },
        "outputId": "6b9551d4-cb2e-4f61-f0f9-5edafadc7b93"
      },
      "source": [
        "explained_variance_score(test[test.columns[5]],test[test.columns[6]])"
      ],
      "execution_count": 396,
      "outputs": [
        {
          "output_type": "execute_result",
          "data": {
            "text/plain": [
              "0.9847759278853084"
            ]
          },
          "metadata": {
            "tags": []
          },
          "execution_count": 396
        }
      ]
    },
    {
      "cell_type": "code",
      "metadata": {
        "id": "X33c2SIqyOD7",
        "colab_type": "code",
        "colab": {
          "base_uri": "https://localhost:8080/",
          "height": 33
        },
        "outputId": "d05fc39e-2abc-416c-f47d-0c9c90c6d161"
      },
      "source": [
        "explained_variance_score(test[test.columns[0]],test[test.columns[1]])"
      ],
      "execution_count": 400,
      "outputs": [
        {
          "output_type": "execute_result",
          "data": {
            "text/plain": [
              "0.9369449687760846"
            ]
          },
          "metadata": {
            "tags": []
          },
          "execution_count": 400
        }
      ]
    },
    {
      "cell_type": "code",
      "metadata": {
        "id": "A1mvAsbQxgss",
        "colab_type": "code",
        "colab": {
          "base_uri": "https://localhost:8080/",
          "height": 33
        },
        "outputId": "806ad8f0-c87a-4958-cffb-a511a7beada8"
      },
      "source": [
        "test.columns[5]"
      ],
      "execution_count": 384,
      "outputs": [
        {
          "output_type": "execute_result",
          "data": {
            "text/plain": [
              "datetime.datetime(2020, 8, 15, 0, 0)"
            ]
          },
          "metadata": {
            "tags": []
          },
          "execution_count": 384
        }
      ]
    },
    {
      "cell_type": "code",
      "metadata": {
        "id": "5IIgf7Puxyjb",
        "colab_type": "code",
        "colab": {
          "base_uri": "https://localhost:8080/",
          "height": 217
        },
        "outputId": "be4bfb30-02ad-4f0f-debc-40c3c6e32e76"
      },
      "source": [
        "test[test.columns[5]]"
      ],
      "execution_count": 385,
      "outputs": [
        {
          "output_type": "execute_result",
          "data": {
            "text/plain": [
              "0       0.898368\n",
              "1       1.029258\n",
              "2       1.181962\n",
              "3       1.531000\n",
              "4       1.705519\n",
              "          ...   \n",
              "3326    1.029258\n",
              "3327    0.549330\n",
              "3328    0.614775\n",
              "3329    0.876553\n",
              "3330    0.767479\n",
              "Name: 2020-08-15 00:00:00, Length: 3331, dtype: float64"
            ]
          },
          "metadata": {
            "tags": []
          },
          "execution_count": 385
        }
      ]
    },
    {
      "cell_type": "code",
      "metadata": {
        "id": "vziD5FOzx7mB",
        "colab_type": "code",
        "colab": {
          "base_uri": "https://localhost:8080/",
          "height": 33
        },
        "outputId": "2181e9af-364f-479a-b5b5-e03bed1bb53d"
      },
      "source": [
        "test.columns[0]"
      ],
      "execution_count": 399,
      "outputs": [
        {
          "output_type": "execute_result",
          "data": {
            "text/plain": [
              "datetime.datetime(2020, 8, 10, 0, 0)"
            ]
          },
          "metadata": {
            "tags": []
          },
          "execution_count": 399
        }
      ]
    },
    {
      "cell_type": "code",
      "metadata": {
        "id": "G_hRLSOtzGCK",
        "colab_type": "code",
        "colab": {}
      },
      "source": [
        ""
      ],
      "execution_count": null,
      "outputs": []
    }
  ]
}
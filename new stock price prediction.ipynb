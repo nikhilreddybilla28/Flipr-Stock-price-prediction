{
  "nbformat": 4,
  "nbformat_minor": 0,
  "metadata": {
    "colab": {
      "name": "flipr1.ipynb",
      "provenance": [],
      "collapsed_sections": []
    },
    "kernelspec": {
      "name": "python3",
      "display_name": "Python 3"
    }
  },
  "cells": [
    {
      "cell_type": "code",
      "metadata": {
        "id": "fsuYFpZSyn0E",
        "colab_type": "code",
        "colab": {}
      },
      "source": [
        "import pandas as pd\n",
        "import numpy as np\n",
        "import matplotlib.pyplot as plt"
      ],
      "execution_count": 5,
      "outputs": []
    },
    {
      "cell_type": "code",
      "metadata": {
        "id": "ncVaWJOm0Lnf",
        "colab_type": "code",
        "colab": {}
      },
      "source": [
        "train=pd.read_excel('/content/Train_dataset.xlsx')\n",
        "test=pd.read_excel('/content/Test_dataset.xlsx')\n"
      ],
      "execution_count": 19,
      "outputs": []
    },
    {
      "cell_type": "code",
      "metadata": {
        "id": "WM9iC2qr0Y5a",
        "colab_type": "code",
        "colab": {
          "base_uri": "https://localhost:8080/",
          "height": 313
        },
        "outputId": "d27453b7-5d53-418c-e12e-415dcaf66a03"
      },
      "source": [
        "print(train.shape)\n",
        "train.head()"
      ],
      "execution_count": 3,
      "outputs": [
        {
          "output_type": "stream",
          "text": [
            "(7383, 15)\n"
          ],
          "name": "stdout"
        },
        {
          "output_type": "execute_result",
          "data": {
            "text/html": [
              "<div>\n",
              "<style scoped>\n",
              "    .dataframe tbody tr th:only-of-type {\n",
              "        vertical-align: middle;\n",
              "    }\n",
              "\n",
              "    .dataframe tbody tr th {\n",
              "        vertical-align: top;\n",
              "    }\n",
              "\n",
              "    .dataframe thead th {\n",
              "        text-align: right;\n",
              "    }\n",
              "</style>\n",
              "<table border=\"1\" class=\"dataframe\">\n",
              "  <thead>\n",
              "    <tr style=\"text-align: right;\">\n",
              "      <th></th>\n",
              "      <th>Stock Index</th>\n",
              "      <th>Index</th>\n",
              "      <th>Industry</th>\n",
              "      <th>VWAP</th>\n",
              "      <th>General Index</th>\n",
              "      <th>NAV</th>\n",
              "      <th>P/E Ratio</th>\n",
              "      <th>Volumes Traded</th>\n",
              "      <th>Inventory Turnover</th>\n",
              "      <th>Covid Impact (Beta)</th>\n",
              "      <th>Tracking Error</th>\n",
              "      <th>Dollar Exchange Rate</th>\n",
              "      <th>Put-Call Ratio</th>\n",
              "      <th>P/B Ratio</th>\n",
              "      <th>Stock Price</th>\n",
              "    </tr>\n",
              "  </thead>\n",
              "  <tbody>\n",
              "    <tr>\n",
              "      <th>0</th>\n",
              "      <td>AA1</td>\n",
              "      <td>NYSE</td>\n",
              "      <td>Real Estate</td>\n",
              "      <td>700.29</td>\n",
              "      <td>12765.84</td>\n",
              "      <td>32.38</td>\n",
              "      <td>45.35</td>\n",
              "      <td>1208599.0</td>\n",
              "      <td>5.05</td>\n",
              "      <td>-0.43</td>\n",
              "      <td>0.0520</td>\n",
              "      <td>1.0</td>\n",
              "      <td>0.61</td>\n",
              "      <td>9.20</td>\n",
              "      <td>156.987852</td>\n",
              "    </tr>\n",
              "    <tr>\n",
              "      <th>1</th>\n",
              "      <td>AA2</td>\n",
              "      <td>NYSE</td>\n",
              "      <td>Information Tech</td>\n",
              "      <td>214.52</td>\n",
              "      <td>12765.84</td>\n",
              "      <td>33.25</td>\n",
              "      <td>170.56</td>\n",
              "      <td>13753356.0</td>\n",
              "      <td>3.10</td>\n",
              "      <td>0.23</td>\n",
              "      <td>0.0164</td>\n",
              "      <td>1.0</td>\n",
              "      <td>NaN</td>\n",
              "      <td>6.91</td>\n",
              "      <td>560.859622</td>\n",
              "    </tr>\n",
              "    <tr>\n",
              "      <th>2</th>\n",
              "      <td>AA3</td>\n",
              "      <td>NYSE</td>\n",
              "      <td>Information Tech</td>\n",
              "      <td>943.42</td>\n",
              "      <td>12765.84</td>\n",
              "      <td>88.27</td>\n",
              "      <td>143.58</td>\n",
              "      <td>6892003.0</td>\n",
              "      <td>7.70</td>\n",
              "      <td>0.23</td>\n",
              "      <td>0.0396</td>\n",
              "      <td>1.0</td>\n",
              "      <td>NaN</td>\n",
              "      <td>6.09</td>\n",
              "      <td>1279.732874</td>\n",
              "    </tr>\n",
              "    <tr>\n",
              "      <th>3</th>\n",
              "      <td>AA4</td>\n",
              "      <td>BSE</td>\n",
              "      <td>Materials</td>\n",
              "      <td>828.13</td>\n",
              "      <td>38182.08</td>\n",
              "      <td>73.66</td>\n",
              "      <td>151.76</td>\n",
              "      <td>8316793.0</td>\n",
              "      <td>4.80</td>\n",
              "      <td>0.03</td>\n",
              "      <td>0.0431</td>\n",
              "      <td>74.9</td>\n",
              "      <td>1.11</td>\n",
              "      <td>5.60</td>\n",
              "      <td>1121.787632</td>\n",
              "    </tr>\n",
              "    <tr>\n",
              "      <th>4</th>\n",
              "      <td>AA5</td>\n",
              "      <td>S&amp;P 500</td>\n",
              "      <td>Real Estate</td>\n",
              "      <td>NaN</td>\n",
              "      <td>3351.28</td>\n",
              "      <td>23.79</td>\n",
              "      <td>NaN</td>\n",
              "      <td>3943312.0</td>\n",
              "      <td>8.06</td>\n",
              "      <td>-0.43</td>\n",
              "      <td>0.0244</td>\n",
              "      <td>1.0</td>\n",
              "      <td>1.07</td>\n",
              "      <td>9.46</td>\n",
              "      <td>382.962534</td>\n",
              "    </tr>\n",
              "  </tbody>\n",
              "</table>\n",
              "</div>"
            ],
            "text/plain": [
              "  Stock Index    Index  ... P/B Ratio  Stock Price\n",
              "0         AA1     NYSE  ...      9.20   156.987852\n",
              "1         AA2     NYSE  ...      6.91   560.859622\n",
              "2         AA3     NYSE  ...      6.09  1279.732874\n",
              "3         AA4      BSE  ...      5.60  1121.787632\n",
              "4         AA5  S&P 500  ...      9.46   382.962534\n",
              "\n",
              "[5 rows x 15 columns]"
            ]
          },
          "metadata": {
            "tags": []
          },
          "execution_count": 3
        }
      ]
    },
    {
      "cell_type": "code",
      "metadata": {
        "id": "OY1y_Ule0bKK",
        "colab_type": "code",
        "colab": {
          "base_uri": "https://localhost:8080/",
          "height": 246
        },
        "outputId": "f946e0b8-21e0-4eba-f9e1-10f1c6199c20"
      },
      "source": [
        "print(test.shape)\n",
        "test.head()"
      ],
      "execution_count": 4,
      "outputs": [
        {
          "output_type": "stream",
          "text": [
            "(3331, 14)\n"
          ],
          "name": "stdout"
        },
        {
          "output_type": "execute_result",
          "data": {
            "text/html": [
              "<div>\n",
              "<style scoped>\n",
              "    .dataframe tbody tr th:only-of-type {\n",
              "        vertical-align: middle;\n",
              "    }\n",
              "\n",
              "    .dataframe tbody tr th {\n",
              "        vertical-align: top;\n",
              "    }\n",
              "\n",
              "    .dataframe thead th {\n",
              "        text-align: right;\n",
              "    }\n",
              "</style>\n",
              "<table border=\"1\" class=\"dataframe\">\n",
              "  <thead>\n",
              "    <tr style=\"text-align: right;\">\n",
              "      <th></th>\n",
              "      <th>Stock Index</th>\n",
              "      <th>Index</th>\n",
              "      <th>Industry</th>\n",
              "      <th>VWAP</th>\n",
              "      <th>General Index</th>\n",
              "      <th>NAV</th>\n",
              "      <th>P/E Ratio</th>\n",
              "      <th>Volumes Traded</th>\n",
              "      <th>Inventory Turnover</th>\n",
              "      <th>Covid Impact (Beta)</th>\n",
              "      <th>Tracking Error</th>\n",
              "      <th>Dollar Exchange Rate</th>\n",
              "      <th>Put-Call Ratio</th>\n",
              "      <th>P/B Ratio</th>\n",
              "    </tr>\n",
              "  </thead>\n",
              "  <tbody>\n",
              "    <tr>\n",
              "      <th>0</th>\n",
              "      <td>AC3235</td>\n",
              "      <td>NSE</td>\n",
              "      <td>Materials</td>\n",
              "      <td>53.30</td>\n",
              "      <td>11270.15</td>\n",
              "      <td>44.59</td>\n",
              "      <td>185.09</td>\n",
              "      <td>12067855.0</td>\n",
              "      <td>2.78</td>\n",
              "      <td>0.03</td>\n",
              "      <td>0.0330</td>\n",
              "      <td>74.9</td>\n",
              "      <td>0.80</td>\n",
              "      <td>4.66</td>\n",
              "    </tr>\n",
              "    <tr>\n",
              "      <th>1</th>\n",
              "      <td>AC3236</td>\n",
              "      <td>JSE</td>\n",
              "      <td>Energy</td>\n",
              "      <td>749.34</td>\n",
              "      <td>55722.00</td>\n",
              "      <td>74.20</td>\n",
              "      <td>34.01</td>\n",
              "      <td>6172474.0</td>\n",
              "      <td>6.78</td>\n",
              "      <td>0.11</td>\n",
              "      <td>0.0464</td>\n",
              "      <td>17.7</td>\n",
              "      <td>0.86</td>\n",
              "      <td>6.11</td>\n",
              "    </tr>\n",
              "    <tr>\n",
              "      <th>2</th>\n",
              "      <td>AC3237</td>\n",
              "      <td>S&amp;P 500</td>\n",
              "      <td>Information Tech</td>\n",
              "      <td>567.75</td>\n",
              "      <td>3351.28</td>\n",
              "      <td>88.41</td>\n",
              "      <td>177.40</td>\n",
              "      <td>17472488.0</td>\n",
              "      <td>4.36</td>\n",
              "      <td>0.23</td>\n",
              "      <td>0.0401</td>\n",
              "      <td>1.0</td>\n",
              "      <td>0.93</td>\n",
              "      <td>4.99</td>\n",
              "    </tr>\n",
              "    <tr>\n",
              "      <th>3</th>\n",
              "      <td>AC3238</td>\n",
              "      <td>NSE</td>\n",
              "      <td>Healthcare</td>\n",
              "      <td>646.78</td>\n",
              "      <td>11270.15</td>\n",
              "      <td>79.36</td>\n",
              "      <td>105.44</td>\n",
              "      <td>15553159.0</td>\n",
              "      <td>2.77</td>\n",
              "      <td>0.78</td>\n",
              "      <td>0.0187</td>\n",
              "      <td>74.9</td>\n",
              "      <td>1.09</td>\n",
              "      <td>1.26</td>\n",
              "    </tr>\n",
              "    <tr>\n",
              "      <th>4</th>\n",
              "      <td>AC3239</td>\n",
              "      <td>NYSE</td>\n",
              "      <td>Materials</td>\n",
              "      <td>380.33</td>\n",
              "      <td>12765.84</td>\n",
              "      <td>19.90</td>\n",
              "      <td>139.40</td>\n",
              "      <td>12525784.0</td>\n",
              "      <td>5.93</td>\n",
              "      <td>0.03</td>\n",
              "      <td>0.0261</td>\n",
              "      <td>1.0</td>\n",
              "      <td>NaN</td>\n",
              "      <td>6.18</td>\n",
              "    </tr>\n",
              "  </tbody>\n",
              "</table>\n",
              "</div>"
            ],
            "text/plain": [
              "  Stock Index    Index  ... Put-Call Ratio  P/B Ratio\n",
              "0      AC3235      NSE  ...           0.80       4.66\n",
              "1      AC3236      JSE  ...           0.86       6.11\n",
              "2      AC3237  S&P 500  ...           0.93       4.99\n",
              "3      AC3238      NSE  ...           1.09       1.26\n",
              "4      AC3239     NYSE  ...            NaN       6.18\n",
              "\n",
              "[5 rows x 14 columns]"
            ]
          },
          "metadata": {
            "tags": []
          },
          "execution_count": 4
        }
      ]
    },
    {
      "cell_type": "code",
      "metadata": {
        "id": "7ZmoyVHA3AsH",
        "colab_type": "code",
        "colab": {
          "base_uri": "https://localhost:8080/",
          "height": 118
        },
        "outputId": "40f6d625-3b9e-4f6f-e8a6-737639259c17"
      },
      "source": [
        "y=train['Stock Price']\n",
        "y.head()"
      ],
      "execution_count": 5,
      "outputs": [
        {
          "output_type": "execute_result",
          "data": {
            "text/plain": [
              "0     156.987852\n",
              "1     560.859622\n",
              "2    1279.732874\n",
              "3    1121.787632\n",
              "4     382.962534\n",
              "Name: Stock Price, dtype: float64"
            ]
          },
          "metadata": {
            "tags": []
          },
          "execution_count": 5
        }
      ]
    },
    {
      "cell_type": "code",
      "metadata": {
        "id": "kM35z6mP3Wcf",
        "colab_type": "code",
        "colab": {
          "base_uri": "https://localhost:8080/",
          "height": 386
        },
        "outputId": "e7b4577f-0b8a-4b94-fdc2-9654ee3e8f8b"
      },
      "source": [
        "train.info()"
      ],
      "execution_count": 12,
      "outputs": [
        {
          "output_type": "stream",
          "text": [
            "<class 'pandas.core.frame.DataFrame'>\n",
            "RangeIndex: 7383 entries, 0 to 7382\n",
            "Data columns (total 15 columns):\n",
            " #   Column                Non-Null Count  Dtype  \n",
            "---  ------                --------------  -----  \n",
            " 0   Stock Index           7383 non-null   object \n",
            " 1   Index                 7383 non-null   object \n",
            " 2   Industry              7383 non-null   object \n",
            " 3   VWAP                  7345 non-null   float64\n",
            " 4   General Index         7321 non-null   float64\n",
            " 5   NAV                   7322 non-null   float64\n",
            " 6   P/E Ratio             7149 non-null   float64\n",
            " 7   Volumes Traded        7115 non-null   float64\n",
            " 8   Inventory Turnover    6984 non-null   float64\n",
            " 9   Covid Impact (Beta)   7007 non-null   float64\n",
            " 10  Tracking Error        7312 non-null   float64\n",
            " 11  Dollar Exchange Rate  7306 non-null   float64\n",
            " 12  Put-Call Ratio        7298 non-null   float64\n",
            " 13  P/B Ratio             7358 non-null   float64\n",
            " 14  Stock Price           7383 non-null   float64\n",
            "dtypes: float64(12), object(3)\n",
            "memory usage: 865.3+ KB\n"
          ],
          "name": "stdout"
        }
      ]
    },
    {
      "cell_type": "code",
      "metadata": {
        "id": "K8UnaeRA0cW_",
        "colab_type": "code",
        "colab": {
          "base_uri": "https://localhost:8080/",
          "height": 313
        },
        "outputId": "c3e87a08-b290-4ecb-d93d-667e0d510241"
      },
      "source": [
        "df=pd.concat([train, test], axis=0)\n",
        "print(df.shape)\n",
        "df.head()"
      ],
      "execution_count": 6,
      "outputs": [
        {
          "output_type": "stream",
          "text": [
            "(10714, 15)\n"
          ],
          "name": "stdout"
        },
        {
          "output_type": "execute_result",
          "data": {
            "text/html": [
              "<div>\n",
              "<style scoped>\n",
              "    .dataframe tbody tr th:only-of-type {\n",
              "        vertical-align: middle;\n",
              "    }\n",
              "\n",
              "    .dataframe tbody tr th {\n",
              "        vertical-align: top;\n",
              "    }\n",
              "\n",
              "    .dataframe thead th {\n",
              "        text-align: right;\n",
              "    }\n",
              "</style>\n",
              "<table border=\"1\" class=\"dataframe\">\n",
              "  <thead>\n",
              "    <tr style=\"text-align: right;\">\n",
              "      <th></th>\n",
              "      <th>Stock Index</th>\n",
              "      <th>Index</th>\n",
              "      <th>Industry</th>\n",
              "      <th>VWAP</th>\n",
              "      <th>General Index</th>\n",
              "      <th>NAV</th>\n",
              "      <th>P/E Ratio</th>\n",
              "      <th>Volumes Traded</th>\n",
              "      <th>Inventory Turnover</th>\n",
              "      <th>Covid Impact (Beta)</th>\n",
              "      <th>Tracking Error</th>\n",
              "      <th>Dollar Exchange Rate</th>\n",
              "      <th>Put-Call Ratio</th>\n",
              "      <th>P/B Ratio</th>\n",
              "      <th>Stock Price</th>\n",
              "    </tr>\n",
              "  </thead>\n",
              "  <tbody>\n",
              "    <tr>\n",
              "      <th>0</th>\n",
              "      <td>AA1</td>\n",
              "      <td>NYSE</td>\n",
              "      <td>Real Estate</td>\n",
              "      <td>700.29</td>\n",
              "      <td>12765.84</td>\n",
              "      <td>32.38</td>\n",
              "      <td>45.35</td>\n",
              "      <td>1208599.0</td>\n",
              "      <td>5.05</td>\n",
              "      <td>-0.43</td>\n",
              "      <td>0.0520</td>\n",
              "      <td>1.0</td>\n",
              "      <td>0.61</td>\n",
              "      <td>9.20</td>\n",
              "      <td>156.987852</td>\n",
              "    </tr>\n",
              "    <tr>\n",
              "      <th>1</th>\n",
              "      <td>AA2</td>\n",
              "      <td>NYSE</td>\n",
              "      <td>Information Tech</td>\n",
              "      <td>214.52</td>\n",
              "      <td>12765.84</td>\n",
              "      <td>33.25</td>\n",
              "      <td>170.56</td>\n",
              "      <td>13753356.0</td>\n",
              "      <td>3.10</td>\n",
              "      <td>0.23</td>\n",
              "      <td>0.0164</td>\n",
              "      <td>1.0</td>\n",
              "      <td>NaN</td>\n",
              "      <td>6.91</td>\n",
              "      <td>560.859622</td>\n",
              "    </tr>\n",
              "    <tr>\n",
              "      <th>2</th>\n",
              "      <td>AA3</td>\n",
              "      <td>NYSE</td>\n",
              "      <td>Information Tech</td>\n",
              "      <td>943.42</td>\n",
              "      <td>12765.84</td>\n",
              "      <td>88.27</td>\n",
              "      <td>143.58</td>\n",
              "      <td>6892003.0</td>\n",
              "      <td>7.70</td>\n",
              "      <td>0.23</td>\n",
              "      <td>0.0396</td>\n",
              "      <td>1.0</td>\n",
              "      <td>NaN</td>\n",
              "      <td>6.09</td>\n",
              "      <td>1279.732874</td>\n",
              "    </tr>\n",
              "    <tr>\n",
              "      <th>3</th>\n",
              "      <td>AA4</td>\n",
              "      <td>BSE</td>\n",
              "      <td>Materials</td>\n",
              "      <td>828.13</td>\n",
              "      <td>38182.08</td>\n",
              "      <td>73.66</td>\n",
              "      <td>151.76</td>\n",
              "      <td>8316793.0</td>\n",
              "      <td>4.80</td>\n",
              "      <td>0.03</td>\n",
              "      <td>0.0431</td>\n",
              "      <td>74.9</td>\n",
              "      <td>1.11</td>\n",
              "      <td>5.60</td>\n",
              "      <td>1121.787632</td>\n",
              "    </tr>\n",
              "    <tr>\n",
              "      <th>4</th>\n",
              "      <td>AA5</td>\n",
              "      <td>S&amp;P 500</td>\n",
              "      <td>Real Estate</td>\n",
              "      <td>NaN</td>\n",
              "      <td>3351.28</td>\n",
              "      <td>23.79</td>\n",
              "      <td>NaN</td>\n",
              "      <td>3943312.0</td>\n",
              "      <td>8.06</td>\n",
              "      <td>-0.43</td>\n",
              "      <td>0.0244</td>\n",
              "      <td>1.0</td>\n",
              "      <td>1.07</td>\n",
              "      <td>9.46</td>\n",
              "      <td>382.962534</td>\n",
              "    </tr>\n",
              "  </tbody>\n",
              "</table>\n",
              "</div>"
            ],
            "text/plain": [
              "  Stock Index    Index  ... P/B Ratio  Stock Price\n",
              "0         AA1     NYSE  ...      9.20   156.987852\n",
              "1         AA2     NYSE  ...      6.91   560.859622\n",
              "2         AA3     NYSE  ...      6.09  1279.732874\n",
              "3         AA4      BSE  ...      5.60  1121.787632\n",
              "4         AA5  S&P 500  ...      9.46   382.962534\n",
              "\n",
              "[5 rows x 15 columns]"
            ]
          },
          "metadata": {
            "tags": []
          },
          "execution_count": 6
        }
      ]
    },
    {
      "cell_type": "code",
      "metadata": {
        "id": "9I8-O7uz9L6r",
        "colab_type": "code",
        "colab": {
          "base_uri": "https://localhost:8080/",
          "height": 338
        },
        "outputId": "247889bd-7b0d-4fb1-93de-a47d7b511c02"
      },
      "source": [
        "df.describe()"
      ],
      "execution_count": 7,
      "outputs": [
        {
          "output_type": "execute_result",
          "data": {
            "text/html": [
              "<div>\n",
              "<style scoped>\n",
              "    .dataframe tbody tr th:only-of-type {\n",
              "        vertical-align: middle;\n",
              "    }\n",
              "\n",
              "    .dataframe tbody tr th {\n",
              "        vertical-align: top;\n",
              "    }\n",
              "\n",
              "    .dataframe thead th {\n",
              "        text-align: right;\n",
              "    }\n",
              "</style>\n",
              "<table border=\"1\" class=\"dataframe\">\n",
              "  <thead>\n",
              "    <tr style=\"text-align: right;\">\n",
              "      <th></th>\n",
              "      <th>VWAP</th>\n",
              "      <th>General Index</th>\n",
              "      <th>NAV</th>\n",
              "      <th>P/E Ratio</th>\n",
              "      <th>Volumes Traded</th>\n",
              "      <th>Inventory Turnover</th>\n",
              "      <th>Covid Impact (Beta)</th>\n",
              "      <th>Tracking Error</th>\n",
              "      <th>Dollar Exchange Rate</th>\n",
              "      <th>Put-Call Ratio</th>\n",
              "      <th>P/B Ratio</th>\n",
              "      <th>Stock Price</th>\n",
              "    </tr>\n",
              "  </thead>\n",
              "  <tbody>\n",
              "    <tr>\n",
              "      <th>count</th>\n",
              "      <td>10664.000000</td>\n",
              "      <td>10381.000000</td>\n",
              "      <td>10378.000000</td>\n",
              "      <td>10188.000000</td>\n",
              "      <td>1.039800e+04</td>\n",
              "      <td>10285.000000</td>\n",
              "      <td>10307.000000</td>\n",
              "      <td>10517.000000</td>\n",
              "      <td>10494.000000</td>\n",
              "      <td>10200.000000</td>\n",
              "      <td>10551.000000</td>\n",
              "      <td>7383.000000</td>\n",
              "    </tr>\n",
              "    <tr>\n",
              "      <th>mean</th>\n",
              "      <td>486.930280</td>\n",
              "      <td>24477.860693</td>\n",
              "      <td>54.602065</td>\n",
              "      <td>105.301411</td>\n",
              "      <td>1.034401e+07</td>\n",
              "      <td>5.432357</td>\n",
              "      <td>0.140150</td>\n",
              "      <td>0.038448</td>\n",
              "      <td>33.829607</td>\n",
              "      <td>0.943045</td>\n",
              "      <td>4.998525</td>\n",
              "      <td>569.522650</td>\n",
              "    </tr>\n",
              "    <tr>\n",
              "      <th>std</th>\n",
              "      <td>279.294087</td>\n",
              "      <td>19689.588363</td>\n",
              "      <td>25.959752</td>\n",
              "      <td>54.971155</td>\n",
              "      <td>5.676256e+06</td>\n",
              "      <td>1.660047</td>\n",
              "      <td>0.384902</td>\n",
              "      <td>0.013345</td>\n",
              "      <td>33.939752</td>\n",
              "      <td>0.202368</td>\n",
              "      <td>2.616892</td>\n",
              "      <td>423.896621</td>\n",
              "    </tr>\n",
              "    <tr>\n",
              "      <th>min</th>\n",
              "      <td>5.250000</td>\n",
              "      <td>3351.280000</td>\n",
              "      <td>10.010000</td>\n",
              "      <td>10.020000</td>\n",
              "      <td>5.244620e+05</td>\n",
              "      <td>2.560000</td>\n",
              "      <td>-0.430000</td>\n",
              "      <td>0.015200</td>\n",
              "      <td>1.000000</td>\n",
              "      <td>0.600000</td>\n",
              "      <td>0.450000</td>\n",
              "      <td>10.573482</td>\n",
              "    </tr>\n",
              "    <tr>\n",
              "      <th>25%</th>\n",
              "      <td>244.630000</td>\n",
              "      <td>11270.150000</td>\n",
              "      <td>32.275000</td>\n",
              "      <td>57.900000</td>\n",
              "      <td>5.486451e+06</td>\n",
              "      <td>4.010000</td>\n",
              "      <td>0.030000</td>\n",
              "      <td>0.027000</td>\n",
              "      <td>1.000000</td>\n",
              "      <td>0.770000</td>\n",
              "      <td>2.750000</td>\n",
              "      <td>223.516594</td>\n",
              "    </tr>\n",
              "    <tr>\n",
              "      <th>50%</th>\n",
              "      <td>488.395000</td>\n",
              "      <td>12765.840000</td>\n",
              "      <td>54.460000</td>\n",
              "      <td>105.335000</td>\n",
              "      <td>1.038880e+07</td>\n",
              "      <td>5.440000</td>\n",
              "      <td>0.110000</td>\n",
              "      <td>0.038500</td>\n",
              "      <td>17.700000</td>\n",
              "      <td>0.940000</td>\n",
              "      <td>5.010000</td>\n",
              "      <td>458.716483</td>\n",
              "    </tr>\n",
              "    <tr>\n",
              "      <th>75%</th>\n",
              "      <td>727.707500</td>\n",
              "      <td>38182.080000</td>\n",
              "      <td>77.317500</td>\n",
              "      <td>153.070000</td>\n",
              "      <td>1.521699e+07</td>\n",
              "      <td>6.860000</td>\n",
              "      <td>0.230000</td>\n",
              "      <td>0.050100</td>\n",
              "      <td>74.900000</td>\n",
              "      <td>1.120000</td>\n",
              "      <td>7.220000</td>\n",
              "      <td>827.927051</td>\n",
              "    </tr>\n",
              "    <tr>\n",
              "      <th>max</th>\n",
              "      <td>965.210000</td>\n",
              "      <td>55722.000000</td>\n",
              "      <td>99.980000</td>\n",
              "      <td>199.970000</td>\n",
              "      <td>2.015445e+07</td>\n",
              "      <td>8.330000</td>\n",
              "      <td>0.780000</td>\n",
              "      <td>0.061500</td>\n",
              "      <td>74.900000</td>\n",
              "      <td>1.290000</td>\n",
              "      <td>9.560000</td>\n",
              "      <td>1970.400563</td>\n",
              "    </tr>\n",
              "  </tbody>\n",
              "</table>\n",
              "</div>"
            ],
            "text/plain": [
              "               VWAP  General Index  ...     P/B Ratio  Stock Price\n",
              "count  10664.000000   10381.000000  ...  10551.000000  7383.000000\n",
              "mean     486.930280   24477.860693  ...      4.998525   569.522650\n",
              "std      279.294087   19689.588363  ...      2.616892   423.896621\n",
              "min        5.250000    3351.280000  ...      0.450000    10.573482\n",
              "25%      244.630000   11270.150000  ...      2.750000   223.516594\n",
              "50%      488.395000   12765.840000  ...      5.010000   458.716483\n",
              "75%      727.707500   38182.080000  ...      7.220000   827.927051\n",
              "max      965.210000   55722.000000  ...      9.560000  1970.400563\n",
              "\n",
              "[8 rows x 12 columns]"
            ]
          },
          "metadata": {
            "tags": []
          },
          "execution_count": 7
        }
      ]
    },
    {
      "cell_type": "code",
      "metadata": {
        "id": "V7VLdI7U4SDl",
        "colab_type": "code",
        "colab": {
          "base_uri": "https://localhost:8080/",
          "height": 398
        },
        "outputId": "a500d5ac-0bf1-476a-a610-19eda26b2238"
      },
      "source": [
        "df['Index'].value_counts().plot(kind='bar')\n",
        "df['Index'].value_counts()"
      ],
      "execution_count": 8,
      "outputs": [
        {
          "output_type": "execute_result",
          "data": {
            "text/plain": [
              "JSE        2212\n",
              "NSE        2164\n",
              "NYSE       2151\n",
              "BSE        2095\n",
              "S&P 500    2092\n",
              "Name: Index, dtype: int64"
            ]
          },
          "metadata": {
            "tags": []
          },
          "execution_count": 8
        },
        {
          "output_type": "display_data",
          "data": {
            "image/png": "[encoded data removed]",
            "text/plain": [
              "<Figure size 432x288 with 1 Axes>"
            ]
          },
          "metadata": {
            "tags": [],
            "needs_background": "light"
          }
        }
      ]
    },
    {
      "cell_type": "code",
      "metadata": {
        "id": "yJ8-F-Sh4buf",
        "colab_type": "code",
        "colab": {
          "base_uri": "https://localhost:8080/",
          "height": 439
        },
        "outputId": "1a7b85a7-f968-462b-ea2b-a7016f4327c9"
      },
      "source": [
        "df['Industry'].value_counts().plot(kind='bar')\n",
        "df['Industry'].value_counts()"
      ],
      "execution_count": 9,
      "outputs": [
        {
          "output_type": "execute_result",
          "data": {
            "text/plain": [
              "Energy              2211\n",
              "Materials           2166\n",
              "Real Estate         2148\n",
              "Information Tech    2123\n",
              "Healthcare          2066\n",
              "Name: Industry, dtype: int64"
            ]
          },
          "metadata": {
            "tags": []
          },
          "execution_count": 9
        },
        {
          "output_type": "display_data",
          "data": {
            "image/png": "[encoded data removed]",
            "text/plain": [
              "<Figure size 432x288 with 1 Axes>"
            ]
          },
          "metadata": {
            "tags": [],
            "needs_background": "light"
          }
        }
      ]
    },
    {
      "cell_type": "code",
      "metadata": {
        "id": "Dje4KV-qDbrl",
        "colab_type": "code",
        "colab": {
          "base_uri": "https://localhost:8080/",
          "height": 497
        },
        "outputId": "1b9f1b90-e0a8-4439-9bdc-e5693ab3a5c9"
      },
      "source": [
        "df['General Index'].value_counts().plot(kind='bar')\n",
        "df['General Index'].value_counts()"
      ],
      "execution_count": 14,
      "outputs": [
        {
          "output_type": "execute_result",
          "data": {
            "text/plain": [
              "55722.00    2138\n",
              "12765.84    2092\n",
              "11270.15    2087\n",
              "38182.08    2042\n",
              "3351.28     2022\n",
              "Name: General Index, dtype: int64"
            ]
          },
          "metadata": {
            "tags": []
          },
          "execution_count": 14
        },
        {
          "output_type": "display_data",
          "data": {
            "image/png": "[encoded data removed]",
            "text/plain": [
              "<Figure size 600x400 with 1 Axes>"
            ]
          },
          "metadata": {
            "tags": []
          }
        }
      ]
    },
    {
      "cell_type": "code",
      "metadata": {
        "id": "sGw2rarQDcIS",
        "colab_type": "code",
        "colab": {
          "base_uri": "https://localhost:8080/",
          "height": 475
        },
        "outputId": "fb0b7da9-bde2-4c36-bace-fa67657c643e"
      },
      "source": [
        "df['Covid Impact (Beta)'].value_counts().plot(kind='bar')\n",
        "df['Covid Impact (Beta)'].value_counts()"
      ],
      "execution_count": 17,
      "outputs": [
        {
          "output_type": "execute_result",
          "data": {
            "text/plain": [
              " 0.11    2115\n",
              " 0.03    2092\n",
              " 0.23    2056\n",
              "-0.43    2048\n",
              " 0.78    1996\n",
              "Name: Covid Impact (Beta), dtype: int64"
            ]
          },
          "metadata": {
            "tags": []
          },
          "execution_count": 17
        },
        {
          "output_type": "display_data",
          "data": {
            "image/png": "[encoded data removed]",
            "text/plain": [
              "<Figure size 600x400 with 1 Axes>"
            ]
          },
          "metadata": {
            "tags": []
          }
        }
      ]
    },
    {
      "cell_type": "code",
      "metadata": {
        "id": "It6JsO-DDcPy",
        "colab_type": "code",
        "colab": {
          "base_uri": "https://localhost:8080/",
          "height": 438
        },
        "outputId": "751611b9-7dac-4c68-931d-2818c01222f0"
      },
      "source": [
        "df['Dollar Exchange Rate'].value_counts().plot(kind='bar')\n",
        "df['Dollar Exchange Rate'].value_counts()"
      ],
      "execution_count": 16,
      "outputs": [
        {
          "output_type": "execute_result",
          "data": {
            "text/plain": [
              "74.9    4174\n",
              "1.0     4161\n",
              "17.7    2159\n",
              "Name: Dollar Exchange Rate, dtype: int64"
            ]
          },
          "metadata": {
            "tags": []
          },
          "execution_count": 16
        },
        {
          "output_type": "display_data",
          "data": {
            "image/png": "[encoded data removed]",
            "text/plain": [
              "<Figure size 600x400 with 1 Axes>"
            ]
          },
          "metadata": {
            "tags": []
          }
        }
      ]
    },
    {
      "cell_type": "code",
      "metadata": {
        "id": "4-MEf6vC85Vp",
        "colab_type": "code",
        "colab": {
          "base_uri": "https://localhost:8080/",
          "height": 312
        },
        "outputId": "fc3e2e7a-2c67-4fa3-a112-a7273f22415e"
      },
      "source": [
        "plt.scatter(train['Industry'],train['Stock Price'])\n",
        "plt.xlabel('industry')\n",
        "plt.ylabel('price')\n",
        "plt.title('Scatter plot ')"
      ],
      "execution_count": 11,
      "outputs": [
        {
          "output_type": "execute_result",
          "data": {
            "text/plain": [
              "Text(0.5, 1.0, 'Scatter plot ')"
            ]
          },
          "metadata": {
            "tags": []
          },
          "execution_count": 11
        },
        {
          "output_type": "display_data",
          "data": {
            "image/png": "[encoded data removed]",
            "text/plain": [
              "<Figure size 432x288 with 1 Axes>"
            ]
          },
          "metadata": {
            "tags": [],
            "needs_background": "light"
          }
        }
      ]
    },
    {
      "cell_type": "code",
      "metadata": {
        "id": "RupsRUlZ__4P",
        "colab_type": "code",
        "colab": {
          "base_uri": "https://localhost:8080/",
          "height": 67
        },
        "outputId": "ab31e2e7-9829-44a9-f524-af45ab27f324"
      },
      "source": [
        "#! pip install sweetviz\n",
        "import sweetviz\n",
        "my_report = sweetviz.compare([train, \"Train\"], [test, \"Test\"], \"Stock Price\")"
      ],
      "execution_count": 12,
      "outputs": [
        {
          "output_type": "stream",
          "text": [
            ":FEATURES DONE:                    |█████████████████████| [100%]   00:10  -> (00:00 left)\n",
            ":PAIRWISE DONE:                    |█████████████████████| [100%]   00:00  -> (00:00 left)\n"
          ],
          "name": "stderr"
        },
        {
          "output_type": "stream",
          "text": [
            "Creating Associations graph... DONE!\n"
          ],
          "name": "stdout"
        }
      ]
    },
    {
      "cell_type": "code",
      "metadata": {
        "id": "YnjCJR30A2Lx",
        "colab_type": "code",
        "colab": {
          "base_uri": "https://localhost:8080/",
          "height": 34
        },
        "outputId": "524d3795-793f-4097-e3de-889c08042e54"
      },
      "source": [
        "my_report.show_html(\"flipr.html\") # Not providing a filename will default to SWEETVIZ_REPORT.html"
      ],
      "execution_count": 13,
      "outputs": [
        {
          "output_type": "stream",
          "text": [
            "Report flipr.html was generated! NOTEBOOK/COLAB USERS: no browser will pop up, the report is saved in your notebook/colab files.\n"
          ],
          "name": "stdout"
        }
      ]
    },
    {
      "cell_type": "markdown",
      "metadata": {
        "id": "So8p7sWRJe2s",
        "colab_type": "text"
      },
      "source": [
        "**basic model**"
      ]
    },
    {
      "cell_type": "code",
      "metadata": {
        "id": "VZFGVKIseCaM",
        "colab_type": "code",
        "colab": {}
      },
      "source": [
        "train=pd.read_excel('/content/Train_dataset.xlsx')\n",
        "test=pd.read_excel('/content/Test_dataset.xlsx')"
      ],
      "execution_count": 265,
      "outputs": []
    },
    {
      "cell_type": "code",
      "metadata": {
        "id": "_u5Q6zgxBf5S",
        "colab_type": "code",
        "colab": {
          "base_uri": "https://localhost:8080/",
          "height": 296
        },
        "outputId": "7dd28ba2-5abe-4f0b-a986-e01141bf64d8"
      },
      "source": [
        "train.head()"
      ],
      "execution_count": 266,
      "outputs": [
        {
          "output_type": "execute_result",
          "data": {
            "text/html": [
              "<div>\n",
              "<style scoped>\n",
              "    .dataframe tbody tr th:only-of-type {\n",
              "        vertical-align: middle;\n",
              "    }\n",
              "\n",
              "    .dataframe tbody tr th {\n",
              "        vertical-align: top;\n",
              "    }\n",
              "\n",
              "    .dataframe thead th {\n",
              "        text-align: right;\n",
              "    }\n",
              "</style>\n",
              "<table border=\"1\" class=\"dataframe\">\n",
              "  <thead>\n",
              "    <tr style=\"text-align: right;\">\n",
              "      <th></th>\n",
              "      <th>Stock Index</th>\n",
              "      <th>Index</th>\n",
              "      <th>Industry</th>\n",
              "      <th>VWAP</th>\n",
              "      <th>General Index</th>\n",
              "      <th>NAV</th>\n",
              "      <th>P/E Ratio</th>\n",
              "      <th>Volumes Traded</th>\n",
              "      <th>Inventory Turnover</th>\n",
              "      <th>Covid Impact (Beta)</th>\n",
              "      <th>Tracking Error</th>\n",
              "      <th>Dollar Exchange Rate</th>\n",
              "      <th>Put-Call Ratio</th>\n",
              "      <th>P/B Ratio</th>\n",
              "      <th>Stock Price</th>\n",
              "    </tr>\n",
              "  </thead>\n",
              "  <tbody>\n",
              "    <tr>\n",
              "      <th>0</th>\n",
              "      <td>AA1</td>\n",
              "      <td>NYSE</td>\n",
              "      <td>Real Estate</td>\n",
              "      <td>700.29</td>\n",
              "      <td>12765.84</td>\n",
              "      <td>32.38</td>\n",
              "      <td>45.35</td>\n",
              "      <td>1208599.0</td>\n",
              "      <td>5.05</td>\n",
              "      <td>-0.43</td>\n",
              "      <td>0.0520</td>\n",
              "      <td>1.0</td>\n",
              "      <td>0.61</td>\n",
              "      <td>9.20</td>\n",
              "      <td>156.987852</td>\n",
              "    </tr>\n",
              "    <tr>\n",
              "      <th>1</th>\n",
              "      <td>AA2</td>\n",
              "      <td>NYSE</td>\n",
              "      <td>Information Tech</td>\n",
              "      <td>214.52</td>\n",
              "      <td>12765.84</td>\n",
              "      <td>33.25</td>\n",
              "      <td>170.56</td>\n",
              "      <td>13753356.0</td>\n",
              "      <td>3.10</td>\n",
              "      <td>0.23</td>\n",
              "      <td>0.0164</td>\n",
              "      <td>1.0</td>\n",
              "      <td>NaN</td>\n",
              "      <td>6.91</td>\n",
              "      <td>560.859622</td>\n",
              "    </tr>\n",
              "    <tr>\n",
              "      <th>2</th>\n",
              "      <td>AA3</td>\n",
              "      <td>NYSE</td>\n",
              "      <td>Information Tech</td>\n",
              "      <td>943.42</td>\n",
              "      <td>12765.84</td>\n",
              "      <td>88.27</td>\n",
              "      <td>143.58</td>\n",
              "      <td>6892003.0</td>\n",
              "      <td>7.70</td>\n",
              "      <td>0.23</td>\n",
              "      <td>0.0396</td>\n",
              "      <td>1.0</td>\n",
              "      <td>NaN</td>\n",
              "      <td>6.09</td>\n",
              "      <td>1279.732874</td>\n",
              "    </tr>\n",
              "    <tr>\n",
              "      <th>3</th>\n",
              "      <td>AA4</td>\n",
              "      <td>BSE</td>\n",
              "      <td>Materials</td>\n",
              "      <td>828.13</td>\n",
              "      <td>38182.08</td>\n",
              "      <td>73.66</td>\n",
              "      <td>151.76</td>\n",
              "      <td>8316793.0</td>\n",
              "      <td>4.80</td>\n",
              "      <td>0.03</td>\n",
              "      <td>0.0431</td>\n",
              "      <td>74.9</td>\n",
              "      <td>1.11</td>\n",
              "      <td>5.60</td>\n",
              "      <td>1121.787632</td>\n",
              "    </tr>\n",
              "    <tr>\n",
              "      <th>4</th>\n",
              "      <td>AA5</td>\n",
              "      <td>S&amp;P 500</td>\n",
              "      <td>Real Estate</td>\n",
              "      <td>NaN</td>\n",
              "      <td>3351.28</td>\n",
              "      <td>23.79</td>\n",
              "      <td>NaN</td>\n",
              "      <td>3943312.0</td>\n",
              "      <td>8.06</td>\n",
              "      <td>-0.43</td>\n",
              "      <td>0.0244</td>\n",
              "      <td>1.0</td>\n",
              "      <td>1.07</td>\n",
              "      <td>9.46</td>\n",
              "      <td>382.962534</td>\n",
              "    </tr>\n",
              "  </tbody>\n",
              "</table>\n",
              "</div>"
            ],
            "text/plain": [
              "  Stock Index    Index  ... P/B Ratio  Stock Price\n",
              "0         AA1     NYSE  ...      9.20   156.987852\n",
              "1         AA2     NYSE  ...      6.91   560.859622\n",
              "2         AA3     NYSE  ...      6.09  1279.732874\n",
              "3         AA4      BSE  ...      5.60  1121.787632\n",
              "4         AA5  S&P 500  ...      9.46   382.962534\n",
              "\n",
              "[5 rows x 15 columns]"
            ]
          },
          "metadata": {
            "tags": []
          },
          "execution_count": 266
        }
      ]
    },
    {
      "cell_type": "code",
      "metadata": {
        "id": "aoH0XlgvZZtp",
        "colab_type": "code",
        "colab": {}
      },
      "source": [
        "y=train['Stock Price']\n",
        "train=train.drop(['Stock Index','Stock Price'],axis=1)\n",
        "test=test.drop(['Stock Index'],axis=1)"
      ],
      "execution_count": 267,
      "outputs": []
    },
    {
      "cell_type": "code",
      "metadata": {
        "id": "BMCP1zznJlDQ",
        "colab_type": "code",
        "colab": {
          "base_uri": "https://localhost:8080/",
          "height": 34
        },
        "outputId": "e5dd664f-d7b5-43eb-a1a5-6d946cb64a49"
      },
      "source": [
        "train.shape"
      ],
      "execution_count": 268,
      "outputs": [
        {
          "output_type": "execute_result",
          "data": {
            "text/plain": [
              "(7383, 13)"
            ]
          },
          "metadata": {
            "tags": []
          },
          "execution_count": 268
        }
      ]
    },
    {
      "cell_type": "code",
      "metadata": {
        "id": "xHYc05-gtD8_",
        "colab_type": "code",
        "colab": {
          "base_uri": "https://localhost:8080/",
          "height": 34
        },
        "outputId": "b2f19c7c-0d08-4029-8dae-065d2e1c3b4c"
      },
      "source": [
        "test.shape"
      ],
      "execution_count": 269,
      "outputs": [
        {
          "output_type": "execute_result",
          "data": {
            "text/plain": [
              "(3331, 13)"
            ]
          },
          "metadata": {
            "tags": []
          },
          "execution_count": 269
        }
      ]
    },
    {
      "cell_type": "code",
      "metadata": {
        "id": "4zDfVVhrZcOa",
        "colab_type": "code",
        "colab": {
          "base_uri": "https://localhost:8080/",
          "height": 186
        },
        "outputId": "651b5335-840d-4d6e-860a-d0f87c52543e"
      },
      "source": [
        "train.head(3)"
      ],
      "execution_count": 270,
      "outputs": [
        {
          "output_type": "execute_result",
          "data": {
            "text/html": [
              "<div>\n",
              "<style scoped>\n",
              "    .dataframe tbody tr th:only-of-type {\n",
              "        vertical-align: middle;\n",
              "    }\n",
              "\n",
              "    .dataframe tbody tr th {\n",
              "        vertical-align: top;\n",
              "    }\n",
              "\n",
              "    .dataframe thead th {\n",
              "        text-align: right;\n",
              "    }\n",
              "</style>\n",
              "<table border=\"1\" class=\"dataframe\">\n",
              "  <thead>\n",
              "    <tr style=\"text-align: right;\">\n",
              "      <th></th>\n",
              "      <th>Index</th>\n",
              "      <th>Industry</th>\n",
              "      <th>VWAP</th>\n",
              "      <th>General Index</th>\n",
              "      <th>NAV</th>\n",
              "      <th>P/E Ratio</th>\n",
              "      <th>Volumes Traded</th>\n",
              "      <th>Inventory Turnover</th>\n",
              "      <th>Covid Impact (Beta)</th>\n",
              "      <th>Tracking Error</th>\n",
              "      <th>Dollar Exchange Rate</th>\n",
              "      <th>Put-Call Ratio</th>\n",
              "      <th>P/B Ratio</th>\n",
              "    </tr>\n",
              "  </thead>\n",
              "  <tbody>\n",
              "    <tr>\n",
              "      <th>0</th>\n",
              "      <td>NYSE</td>\n",
              "      <td>Real Estate</td>\n",
              "      <td>700.29</td>\n",
              "      <td>12765.84</td>\n",
              "      <td>32.38</td>\n",
              "      <td>45.35</td>\n",
              "      <td>1208599.0</td>\n",
              "      <td>5.05</td>\n",
              "      <td>-0.43</td>\n",
              "      <td>0.0520</td>\n",
              "      <td>1.0</td>\n",
              "      <td>0.61</td>\n",
              "      <td>9.20</td>\n",
              "    </tr>\n",
              "    <tr>\n",
              "      <th>1</th>\n",
              "      <td>NYSE</td>\n",
              "      <td>Information Tech</td>\n",
              "      <td>214.52</td>\n",
              "      <td>12765.84</td>\n",
              "      <td>33.25</td>\n",
              "      <td>170.56</td>\n",
              "      <td>13753356.0</td>\n",
              "      <td>3.10</td>\n",
              "      <td>0.23</td>\n",
              "      <td>0.0164</td>\n",
              "      <td>1.0</td>\n",
              "      <td>NaN</td>\n",
              "      <td>6.91</td>\n",
              "    </tr>\n",
              "    <tr>\n",
              "      <th>2</th>\n",
              "      <td>NYSE</td>\n",
              "      <td>Information Tech</td>\n",
              "      <td>943.42</td>\n",
              "      <td>12765.84</td>\n",
              "      <td>88.27</td>\n",
              "      <td>143.58</td>\n",
              "      <td>6892003.0</td>\n",
              "      <td>7.70</td>\n",
              "      <td>0.23</td>\n",
              "      <td>0.0396</td>\n",
              "      <td>1.0</td>\n",
              "      <td>NaN</td>\n",
              "      <td>6.09</td>\n",
              "    </tr>\n",
              "  </tbody>\n",
              "</table>\n",
              "</div>"
            ],
            "text/plain": [
              "  Index          Industry  ...  Put-Call Ratio  P/B Ratio\n",
              "0  NYSE       Real Estate  ...            0.61       9.20\n",
              "1  NYSE  Information Tech  ...             NaN       6.91\n",
              "2  NYSE  Information Tech  ...             NaN       6.09\n",
              "\n",
              "[3 rows x 13 columns]"
            ]
          },
          "metadata": {
            "tags": []
          },
          "execution_count": 270
        }
      ]
    },
    {
      "cell_type": "code",
      "metadata": {
        "id": "xYBVxoViKLaD",
        "colab_type": "code",
        "colab": {}
      },
      "source": [
        "train=train.ffill(axis = 0)\n",
        "test=test.ffill(axis=0)"
      ],
      "execution_count": 271,
      "outputs": []
    },
    {
      "cell_type": "code",
      "metadata": {
        "id": "ZEORQxlOKLd6",
        "colab_type": "code",
        "colab": {
          "base_uri": "https://localhost:8080/",
          "height": 353
        },
        "outputId": "46a82315-2f84-4243-87ff-027791188c20"
      },
      "source": [
        "train.info()"
      ],
      "execution_count": 272,
      "outputs": [
        {
          "output_type": "stream",
          "text": [
            "<class 'pandas.core.frame.DataFrame'>\n",
            "RangeIndex: 7383 entries, 0 to 7382\n",
            "Data columns (total 13 columns):\n",
            " #   Column                Non-Null Count  Dtype  \n",
            "---  ------                --------------  -----  \n",
            " 0   Index                 7383 non-null   object \n",
            " 1   Industry              7383 non-null   object \n",
            " 2   VWAP                  7383 non-null   float64\n",
            " 3   General Index         7383 non-null   float64\n",
            " 4   NAV                   7383 non-null   float64\n",
            " 5   P/E Ratio             7383 non-null   float64\n",
            " 6   Volumes Traded        7383 non-null   float64\n",
            " 7   Inventory Turnover    7383 non-null   float64\n",
            " 8   Covid Impact (Beta)   7383 non-null   float64\n",
            " 9   Tracking Error        7383 non-null   float64\n",
            " 10  Dollar Exchange Rate  7383 non-null   float64\n",
            " 11  Put-Call Ratio        7383 non-null   float64\n",
            " 12  P/B Ratio             7383 non-null   float64\n",
            "dtypes: float64(11), object(2)\n",
            "memory usage: 750.0+ KB\n"
          ],
          "name": "stdout"
        }
      ]
    },
    {
      "cell_type": "code",
      "metadata": {
        "id": "uy6Dh79mY851",
        "colab_type": "code",
        "colab": {
          "base_uri": "https://localhost:8080/",
          "height": 353
        },
        "outputId": "972ab5db-d4e6-441e-b5cc-ed92bf92f44f"
      },
      "source": [
        "test.info()"
      ],
      "execution_count": 273,
      "outputs": [
        {
          "output_type": "stream",
          "text": [
            "<class 'pandas.core.frame.DataFrame'>\n",
            "RangeIndex: 3331 entries, 0 to 3330\n",
            "Data columns (total 13 columns):\n",
            " #   Column                Non-Null Count  Dtype  \n",
            "---  ------                --------------  -----  \n",
            " 0   Index                 3331 non-null   object \n",
            " 1   Industry              3331 non-null   object \n",
            " 2   VWAP                  3331 non-null   float64\n",
            " 3   General Index         3331 non-null   float64\n",
            " 4   NAV                   3331 non-null   float64\n",
            " 5   P/E Ratio             3331 non-null   float64\n",
            " 6   Volumes Traded        3331 non-null   float64\n",
            " 7   Inventory Turnover    3331 non-null   float64\n",
            " 8   Covid Impact (Beta)   3331 non-null   float64\n",
            " 9   Tracking Error        3331 non-null   float64\n",
            " 10  Dollar Exchange Rate  3331 non-null   float64\n",
            " 11  Put-Call Ratio        3331 non-null   float64\n",
            " 12  P/B Ratio             3331 non-null   float64\n",
            "dtypes: float64(11), object(2)\n",
            "memory usage: 338.4+ KB\n"
          ],
          "name": "stdout"
        }
      ]
    },
    {
      "cell_type": "code",
      "metadata": {
        "id": "zoDxkp4FKLhQ",
        "colab_type": "code",
        "colab": {
          "base_uri": "https://localhost:8080/",
          "height": 249
        },
        "outputId": "498e3300-5668-43ea-ee46-30a0de2e0597"
      },
      "source": [
        "train= pd.get_dummies(train, columns=['Index','Industry','General Index','Covid Impact (Beta)','Dollar Exchange Rate'])\n",
        "train.head()"
      ],
      "execution_count": 274,
      "outputs": [
        {
          "output_type": "execute_result",
          "data": {
            "text/html": [
              "<div>\n",
              "<style scoped>\n",
              "    .dataframe tbody tr th:only-of-type {\n",
              "        vertical-align: middle;\n",
              "    }\n",
              "\n",
              "    .dataframe tbody tr th {\n",
              "        vertical-align: top;\n",
              "    }\n",
              "\n",
              "    .dataframe thead th {\n",
              "        text-align: right;\n",
              "    }\n",
              "</style>\n",
              "<table border=\"1\" class=\"dataframe\">\n",
              "  <thead>\n",
              "    <tr style=\"text-align: right;\">\n",
              "      <th></th>\n",
              "      <th>VWAP</th>\n",
              "      <th>NAV</th>\n",
              "      <th>P/E Ratio</th>\n",
              "      <th>Volumes Traded</th>\n",
              "      <th>Inventory Turnover</th>\n",
              "      <th>Tracking Error</th>\n",
              "      <th>Put-Call Ratio</th>\n",
              "      <th>P/B Ratio</th>\n",
              "      <th>Index_BSE</th>\n",
              "      <th>Index_JSE</th>\n",
              "      <th>Index_NSE</th>\n",
              "      <th>Index_NYSE</th>\n",
              "      <th>Index_S&amp;P 500</th>\n",
              "      <th>Industry_Energy</th>\n",
              "      <th>Industry_Healthcare</th>\n",
              "      <th>Industry_Information Tech</th>\n",
              "      <th>Industry_Materials</th>\n",
              "      <th>Industry_Real Estate</th>\n",
              "      <th>General Index_3351.28</th>\n",
              "      <th>General Index_11270.15</th>\n",
              "      <th>General Index_12765.84</th>\n",
              "      <th>General Index_38182.08</th>\n",
              "      <th>General Index_55722.0</th>\n",
              "      <th>Covid Impact (Beta)_-0.43</th>\n",
              "      <th>Covid Impact (Beta)_0.03</th>\n",
              "      <th>Covid Impact (Beta)_0.11</th>\n",
              "      <th>Covid Impact (Beta)_0.23</th>\n",
              "      <th>Covid Impact (Beta)_0.78</th>\n",
              "      <th>Dollar Exchange Rate_1.0</th>\n",
              "      <th>Dollar Exchange Rate_17.7</th>\n",
              "      <th>Dollar Exchange Rate_74.9</th>\n",
              "    </tr>\n",
              "  </thead>\n",
              "  <tbody>\n",
              "    <tr>\n",
              "      <th>0</th>\n",
              "      <td>700.29</td>\n",
              "      <td>32.38</td>\n",
              "      <td>45.35</td>\n",
              "      <td>1208599.0</td>\n",
              "      <td>5.05</td>\n",
              "      <td>0.0520</td>\n",
              "      <td>0.61</td>\n",
              "      <td>9.20</td>\n",
              "      <td>0</td>\n",
              "      <td>0</td>\n",
              "      <td>0</td>\n",
              "      <td>1</td>\n",
              "      <td>0</td>\n",
              "      <td>0</td>\n",
              "      <td>0</td>\n",
              "      <td>0</td>\n",
              "      <td>0</td>\n",
              "      <td>1</td>\n",
              "      <td>0</td>\n",
              "      <td>0</td>\n",
              "      <td>1</td>\n",
              "      <td>0</td>\n",
              "      <td>0</td>\n",
              "      <td>1</td>\n",
              "      <td>0</td>\n",
              "      <td>0</td>\n",
              "      <td>0</td>\n",
              "      <td>0</td>\n",
              "      <td>1</td>\n",
              "      <td>0</td>\n",
              "      <td>0</td>\n",
              "    </tr>\n",
              "    <tr>\n",
              "      <th>1</th>\n",
              "      <td>214.52</td>\n",
              "      <td>33.25</td>\n",
              "      <td>170.56</td>\n",
              "      <td>13753356.0</td>\n",
              "      <td>3.10</td>\n",
              "      <td>0.0164</td>\n",
              "      <td>0.61</td>\n",
              "      <td>6.91</td>\n",
              "      <td>0</td>\n",
              "      <td>0</td>\n",
              "      <td>0</td>\n",
              "      <td>1</td>\n",
              "      <td>0</td>\n",
              "      <td>0</td>\n",
              "      <td>0</td>\n",
              "      <td>1</td>\n",
              "      <td>0</td>\n",
              "      <td>0</td>\n",
              "      <td>0</td>\n",
              "      <td>0</td>\n",
              "      <td>1</td>\n",
              "      <td>0</td>\n",
              "      <td>0</td>\n",
              "      <td>0</td>\n",
              "      <td>0</td>\n",
              "      <td>0</td>\n",
              "      <td>1</td>\n",
              "      <td>0</td>\n",
              "      <td>1</td>\n",
              "      <td>0</td>\n",
              "      <td>0</td>\n",
              "    </tr>\n",
              "    <tr>\n",
              "      <th>2</th>\n",
              "      <td>943.42</td>\n",
              "      <td>88.27</td>\n",
              "      <td>143.58</td>\n",
              "      <td>6892003.0</td>\n",
              "      <td>7.70</td>\n",
              "      <td>0.0396</td>\n",
              "      <td>0.61</td>\n",
              "      <td>6.09</td>\n",
              "      <td>0</td>\n",
              "      <td>0</td>\n",
              "      <td>0</td>\n",
              "      <td>1</td>\n",
              "      <td>0</td>\n",
              "      <td>0</td>\n",
              "      <td>0</td>\n",
              "      <td>1</td>\n",
              "      <td>0</td>\n",
              "      <td>0</td>\n",
              "      <td>0</td>\n",
              "      <td>0</td>\n",
              "      <td>1</td>\n",
              "      <td>0</td>\n",
              "      <td>0</td>\n",
              "      <td>0</td>\n",
              "      <td>0</td>\n",
              "      <td>0</td>\n",
              "      <td>1</td>\n",
              "      <td>0</td>\n",
              "      <td>1</td>\n",
              "      <td>0</td>\n",
              "      <td>0</td>\n",
              "    </tr>\n",
              "    <tr>\n",
              "      <th>3</th>\n",
              "      <td>828.13</td>\n",
              "      <td>73.66</td>\n",
              "      <td>151.76</td>\n",
              "      <td>8316793.0</td>\n",
              "      <td>4.80</td>\n",
              "      <td>0.0431</td>\n",
              "      <td>1.11</td>\n",
              "      <td>5.60</td>\n",
              "      <td>1</td>\n",
              "      <td>0</td>\n",
              "      <td>0</td>\n",
              "      <td>0</td>\n",
              "      <td>0</td>\n",
              "      <td>0</td>\n",
              "      <td>0</td>\n",
              "      <td>0</td>\n",
              "      <td>1</td>\n",
              "      <td>0</td>\n",
              "      <td>0</td>\n",
              "      <td>0</td>\n",
              "      <td>0</td>\n",
              "      <td>1</td>\n",
              "      <td>0</td>\n",
              "      <td>0</td>\n",
              "      <td>1</td>\n",
              "      <td>0</td>\n",
              "      <td>0</td>\n",
              "      <td>0</td>\n",
              "      <td>0</td>\n",
              "      <td>0</td>\n",
              "      <td>1</td>\n",
              "    </tr>\n",
              "    <tr>\n",
              "      <th>4</th>\n",
              "      <td>828.13</td>\n",
              "      <td>23.79</td>\n",
              "      <td>151.76</td>\n",
              "      <td>3943312.0</td>\n",
              "      <td>8.06</td>\n",
              "      <td>0.0244</td>\n",
              "      <td>1.07</td>\n",
              "      <td>9.46</td>\n",
              "      <td>0</td>\n",
              "      <td>0</td>\n",
              "      <td>0</td>\n",
              "      <td>0</td>\n",
              "      <td>1</td>\n",
              "      <td>0</td>\n",
              "      <td>0</td>\n",
              "      <td>0</td>\n",
              "      <td>0</td>\n",
              "      <td>1</td>\n",
              "      <td>1</td>\n",
              "      <td>0</td>\n",
              "      <td>0</td>\n",
              "      <td>0</td>\n",
              "      <td>0</td>\n",
              "      <td>1</td>\n",
              "      <td>0</td>\n",
              "      <td>0</td>\n",
              "      <td>0</td>\n",
              "      <td>0</td>\n",
              "      <td>1</td>\n",
              "      <td>0</td>\n",
              "      <td>0</td>\n",
              "    </tr>\n",
              "  </tbody>\n",
              "</table>\n",
              "</div>"
            ],
            "text/plain": [
              "     VWAP    NAV  ...  Dollar Exchange Rate_17.7  Dollar Exchange Rate_74.9\n",
              "0  700.29  32.38  ...                          0                          0\n",
              "1  214.52  33.25  ...                          0                          0\n",
              "2  943.42  88.27  ...                          0                          0\n",
              "3  828.13  73.66  ...                          0                          1\n",
              "4  828.13  23.79  ...                          0                          0\n",
              "\n",
              "[5 rows x 31 columns]"
            ]
          },
          "metadata": {
            "tags": []
          },
          "execution_count": 274
        }
      ]
    },
    {
      "cell_type": "code",
      "metadata": {
        "id": "OUojHwWFKLnl",
        "colab_type": "code",
        "colab": {
          "base_uri": "https://localhost:8080/",
          "height": 34
        },
        "outputId": "249c4e8b-7c9b-418b-ea5a-f3cd59a9c168"
      },
      "source": [
        "train.shape"
      ],
      "execution_count": 275,
      "outputs": [
        {
          "output_type": "execute_result",
          "data": {
            "text/plain": [
              "(7383, 31)"
            ]
          },
          "metadata": {
            "tags": []
          },
          "execution_count": 275
        }
      ]
    },
    {
      "cell_type": "code",
      "metadata": {
        "id": "lDhYr2F2tOdO",
        "colab_type": "code",
        "colab": {
          "base_uri": "https://localhost:8080/",
          "height": 249
        },
        "outputId": "17eaf9ef-3e56-45f0-eb26-bd026a1d6edb"
      },
      "source": [
        "test= pd.get_dummies(test, columns=['Index','Industry','General Index','Covid Impact (Beta)','Dollar Exchange Rate'])\n",
        "test.head()"
      ],
      "execution_count": 276,
      "outputs": [
        {
          "output_type": "execute_result",
          "data": {
            "text/html": [
              "<div>\n",
              "<style scoped>\n",
              "    .dataframe tbody tr th:only-of-type {\n",
              "        vertical-align: middle;\n",
              "    }\n",
              "\n",
              "    .dataframe tbody tr th {\n",
              "        vertical-align: top;\n",
              "    }\n",
              "\n",
              "    .dataframe thead th {\n",
              "        text-align: right;\n",
              "    }\n",
              "</style>\n",
              "<table border=\"1\" class=\"dataframe\">\n",
              "  <thead>\n",
              "    <tr style=\"text-align: right;\">\n",
              "      <th></th>\n",
              "      <th>VWAP</th>\n",
              "      <th>NAV</th>\n",
              "      <th>P/E Ratio</th>\n",
              "      <th>Volumes Traded</th>\n",
              "      <th>Inventory Turnover</th>\n",
              "      <th>Tracking Error</th>\n",
              "      <th>Put-Call Ratio</th>\n",
              "      <th>P/B Ratio</th>\n",
              "      <th>Index_BSE</th>\n",
              "      <th>Index_JSE</th>\n",
              "      <th>Index_NSE</th>\n",
              "      <th>Index_NYSE</th>\n",
              "      <th>Index_S&amp;P 500</th>\n",
              "      <th>Industry_Energy</th>\n",
              "      <th>Industry_Healthcare</th>\n",
              "      <th>Industry_Information Tech</th>\n",
              "      <th>Industry_Materials</th>\n",
              "      <th>Industry_Real Estate</th>\n",
              "      <th>General Index_3351.28</th>\n",
              "      <th>General Index_11270.15</th>\n",
              "      <th>General Index_12765.84</th>\n",
              "      <th>General Index_38182.08</th>\n",
              "      <th>General Index_55722.0</th>\n",
              "      <th>Covid Impact (Beta)_-0.43</th>\n",
              "      <th>Covid Impact (Beta)_0.03</th>\n",
              "      <th>Covid Impact (Beta)_0.11</th>\n",
              "      <th>Covid Impact (Beta)_0.23</th>\n",
              "      <th>Covid Impact (Beta)_0.78</th>\n",
              "      <th>Dollar Exchange Rate_1.0</th>\n",
              "      <th>Dollar Exchange Rate_17.7</th>\n",
              "      <th>Dollar Exchange Rate_74.9</th>\n",
              "    </tr>\n",
              "  </thead>\n",
              "  <tbody>\n",
              "    <tr>\n",
              "      <th>0</th>\n",
              "      <td>53.30</td>\n",
              "      <td>44.59</td>\n",
              "      <td>185.09</td>\n",
              "      <td>12067855.0</td>\n",
              "      <td>2.78</td>\n",
              "      <td>0.0330</td>\n",
              "      <td>0.80</td>\n",
              "      <td>4.66</td>\n",
              "      <td>0</td>\n",
              "      <td>0</td>\n",
              "      <td>1</td>\n",
              "      <td>0</td>\n",
              "      <td>0</td>\n",
              "      <td>0</td>\n",
              "      <td>0</td>\n",
              "      <td>0</td>\n",
              "      <td>1</td>\n",
              "      <td>0</td>\n",
              "      <td>0</td>\n",
              "      <td>1</td>\n",
              "      <td>0</td>\n",
              "      <td>0</td>\n",
              "      <td>0</td>\n",
              "      <td>0</td>\n",
              "      <td>1</td>\n",
              "      <td>0</td>\n",
              "      <td>0</td>\n",
              "      <td>0</td>\n",
              "      <td>0</td>\n",
              "      <td>0</td>\n",
              "      <td>1</td>\n",
              "    </tr>\n",
              "    <tr>\n",
              "      <th>1</th>\n",
              "      <td>749.34</td>\n",
              "      <td>74.20</td>\n",
              "      <td>34.01</td>\n",
              "      <td>6172474.0</td>\n",
              "      <td>6.78</td>\n",
              "      <td>0.0464</td>\n",
              "      <td>0.86</td>\n",
              "      <td>6.11</td>\n",
              "      <td>0</td>\n",
              "      <td>1</td>\n",
              "      <td>0</td>\n",
              "      <td>0</td>\n",
              "      <td>0</td>\n",
              "      <td>1</td>\n",
              "      <td>0</td>\n",
              "      <td>0</td>\n",
              "      <td>0</td>\n",
              "      <td>0</td>\n",
              "      <td>0</td>\n",
              "      <td>0</td>\n",
              "      <td>0</td>\n",
              "      <td>0</td>\n",
              "      <td>1</td>\n",
              "      <td>0</td>\n",
              "      <td>0</td>\n",
              "      <td>1</td>\n",
              "      <td>0</td>\n",
              "      <td>0</td>\n",
              "      <td>0</td>\n",
              "      <td>1</td>\n",
              "      <td>0</td>\n",
              "    </tr>\n",
              "    <tr>\n",
              "      <th>2</th>\n",
              "      <td>567.75</td>\n",
              "      <td>88.41</td>\n",
              "      <td>177.40</td>\n",
              "      <td>17472488.0</td>\n",
              "      <td>4.36</td>\n",
              "      <td>0.0401</td>\n",
              "      <td>0.93</td>\n",
              "      <td>4.99</td>\n",
              "      <td>0</td>\n",
              "      <td>0</td>\n",
              "      <td>0</td>\n",
              "      <td>0</td>\n",
              "      <td>1</td>\n",
              "      <td>0</td>\n",
              "      <td>0</td>\n",
              "      <td>1</td>\n",
              "      <td>0</td>\n",
              "      <td>0</td>\n",
              "      <td>1</td>\n",
              "      <td>0</td>\n",
              "      <td>0</td>\n",
              "      <td>0</td>\n",
              "      <td>0</td>\n",
              "      <td>0</td>\n",
              "      <td>0</td>\n",
              "      <td>0</td>\n",
              "      <td>1</td>\n",
              "      <td>0</td>\n",
              "      <td>1</td>\n",
              "      <td>0</td>\n",
              "      <td>0</td>\n",
              "    </tr>\n",
              "    <tr>\n",
              "      <th>3</th>\n",
              "      <td>646.78</td>\n",
              "      <td>79.36</td>\n",
              "      <td>105.44</td>\n",
              "      <td>15553159.0</td>\n",
              "      <td>2.77</td>\n",
              "      <td>0.0187</td>\n",
              "      <td>1.09</td>\n",
              "      <td>1.26</td>\n",
              "      <td>0</td>\n",
              "      <td>0</td>\n",
              "      <td>1</td>\n",
              "      <td>0</td>\n",
              "      <td>0</td>\n",
              "      <td>0</td>\n",
              "      <td>1</td>\n",
              "      <td>0</td>\n",
              "      <td>0</td>\n",
              "      <td>0</td>\n",
              "      <td>0</td>\n",
              "      <td>1</td>\n",
              "      <td>0</td>\n",
              "      <td>0</td>\n",
              "      <td>0</td>\n",
              "      <td>0</td>\n",
              "      <td>0</td>\n",
              "      <td>0</td>\n",
              "      <td>0</td>\n",
              "      <td>1</td>\n",
              "      <td>0</td>\n",
              "      <td>0</td>\n",
              "      <td>1</td>\n",
              "    </tr>\n",
              "    <tr>\n",
              "      <th>4</th>\n",
              "      <td>380.33</td>\n",
              "      <td>19.90</td>\n",
              "      <td>139.40</td>\n",
              "      <td>12525784.0</td>\n",
              "      <td>5.93</td>\n",
              "      <td>0.0261</td>\n",
              "      <td>1.09</td>\n",
              "      <td>6.18</td>\n",
              "      <td>0</td>\n",
              "      <td>0</td>\n",
              "      <td>0</td>\n",
              "      <td>1</td>\n",
              "      <td>0</td>\n",
              "      <td>0</td>\n",
              "      <td>0</td>\n",
              "      <td>0</td>\n",
              "      <td>1</td>\n",
              "      <td>0</td>\n",
              "      <td>0</td>\n",
              "      <td>0</td>\n",
              "      <td>1</td>\n",
              "      <td>0</td>\n",
              "      <td>0</td>\n",
              "      <td>0</td>\n",
              "      <td>1</td>\n",
              "      <td>0</td>\n",
              "      <td>0</td>\n",
              "      <td>0</td>\n",
              "      <td>1</td>\n",
              "      <td>0</td>\n",
              "      <td>0</td>\n",
              "    </tr>\n",
              "  </tbody>\n",
              "</table>\n",
              "</div>"
            ],
            "text/plain": [
              "     VWAP    NAV  ...  Dollar Exchange Rate_17.7  Dollar Exchange Rate_74.9\n",
              "0   53.30  44.59  ...                          0                          1\n",
              "1  749.34  74.20  ...                          1                          0\n",
              "2  567.75  88.41  ...                          0                          0\n",
              "3  646.78  79.36  ...                          0                          1\n",
              "4  380.33  19.90  ...                          0                          0\n",
              "\n",
              "[5 rows x 31 columns]"
            ]
          },
          "metadata": {
            "tags": []
          },
          "execution_count": 276
        }
      ]
    },
    {
      "cell_type": "code",
      "metadata": {
        "id": "Z0H9p4nmKA7X",
        "colab_type": "code",
        "colab": {
          "base_uri": "https://localhost:8080/",
          "height": 34
        },
        "outputId": "9ef967eb-351c-4094-dcea-10821e714aa6"
      },
      "source": [
        "y=y.values\n",
        "y=y.reshape(-1,1)\n",
        "y.shape"
      ],
      "execution_count": 277,
      "outputs": [
        {
          "output_type": "execute_result",
          "data": {
            "text/plain": [
              "(7383, 1)"
            ]
          },
          "metadata": {
            "tags": []
          },
          "execution_count": 277
        }
      ]
    },
    {
      "cell_type": "code",
      "metadata": {
        "id": "qbwdp0Eva1wS",
        "colab_type": "code",
        "colab": {}
      },
      "source": [
        "from sklearn.model_selection import train_test_split\n",
        "X_train, X_test, y_train, y_test = train_test_split(train, y, test_size = 0.2, random_state = 0)"
      ],
      "execution_count": 278,
      "outputs": []
    },
    {
      "cell_type": "code",
      "metadata": {
        "id": "sUW5Qt4rthzF",
        "colab_type": "code",
        "colab": {}
      },
      "source": [
        "test=test.iloc[:,:].values"
      ],
      "execution_count": 279,
      "outputs": []
    },
    {
      "cell_type": "code",
      "metadata": {
        "id": "JlvHDoCgKDDS",
        "colab_type": "code",
        "colab": {}
      },
      "source": [
        "# Feature Scaling\n",
        "from sklearn.preprocessing import StandardScaler\n",
        "sc_X = StandardScaler()\n",
        "X_train = sc_X.fit_transform(X_train)\n",
        "X_test = sc_X.transform(X_test)\n",
        "test= sc_X.transform(test)\n",
        "sc_y = StandardScaler()\n",
        "y_train = sc_y.fit_transform(y_train)"
      ],
      "execution_count": 280,
      "outputs": []
    },
    {
      "cell_type": "code",
      "metadata": {
        "id": "PU84NABebc39",
        "colab_type": "code",
        "colab": {}
      },
      "source": [
        "def mean_absolute_percentage_error(y_true, y_pred): \n",
        "    #y_true, y_pred = check_arrays(y_true, y_pred)\n",
        "\n",
        "    ## Note: does not handle mix 1d representation\n",
        "    #if _is_1d(y_true): \n",
        "    #    y_true, y_pred = _check_1d_array(y_true, y_pred)\n",
        "\n",
        "    return np.mean(np.abs((y_true - y_pred) / y_true)) * 100"
      ],
      "execution_count": 281,
      "outputs": []
    },
    {
      "cell_type": "markdown",
      "metadata": {
        "id": "lGB-Oe1zlqSP",
        "colab_type": "text"
      },
      "source": [
        "***model***"
      ]
    },
    {
      "cell_type": "code",
      "metadata": {
        "id": "3gI5N5_hbdUp",
        "colab_type": "code",
        "colab": {
          "base_uri": "https://localhost:8080/",
          "height": 104
        },
        "outputId": "b49f4256-5364-48c4-8c92-fc2e6964bbf9"
      },
      "source": [
        "from sklearn.svm import SVR\n",
        "regressor = SVR(kernel = 'rbf')\n",
        "regressor.fit(X_train, y_train)"
      ],
      "execution_count": 282,
      "outputs": [
        {
          "output_type": "stream",
          "text": [
            "/usr/local/lib/python3.6/dist-packages/sklearn/utils/validation.py:760: DataConversionWarning: A column-vector y was passed when a 1d array was expected. Please change the shape of y to (n_samples, ), for example using ravel().\n",
            "  y = column_or_1d(y, warn=True)\n"
          ],
          "name": "stderr"
        },
        {
          "output_type": "execute_result",
          "data": {
            "text/plain": [
              "SVR(C=1.0, cache_size=200, coef0=0.0, degree=3, epsilon=0.1, gamma='scale',\n",
              "    kernel='rbf', max_iter=-1, shrinking=True, tol=0.001, verbose=False)"
            ]
          },
          "metadata": {
            "tags": []
          },
          "execution_count": 282
        }
      ]
    },
    {
      "cell_type": "code",
      "metadata": {
        "id": "ySkD6HNlbdXZ",
        "colab_type": "code",
        "colab": {}
      },
      "source": [
        "y_pred = regressor.predict(X_test)\n",
        "y_pred = sc_y.inverse_transform(y_pred)"
      ],
      "execution_count": 283,
      "outputs": []
    },
    {
      "cell_type": "code",
      "metadata": {
        "id": "CnbsBEqNdLQ6",
        "colab_type": "code",
        "colab": {
          "base_uri": "https://localhost:8080/",
          "height": 50
        },
        "outputId": "1c91a503-8199-4230-f17e-e3aa186c0e18"
      },
      "source": [
        "y_pred=pd.DataFrame(y_pred)\n",
        "y_test=pd.DataFrame(y_test)\n",
        "np.mean(np.abs((y_test - y_pred) / y_test))*100"
      ],
      "execution_count": 285,
      "outputs": [
        {
          "output_type": "execute_result",
          "data": {
            "text/plain": [
              "0    12.888178\n",
              "dtype: float64"
            ]
          },
          "metadata": {
            "tags": []
          },
          "execution_count": 285
        }
      ]
    },
    {
      "cell_type": "code",
      "metadata": {
        "id": "CCoKKCh9vHeH",
        "colab_type": "code",
        "colab": {}
      },
      "source": [
        ""
      ],
      "execution_count": null,
      "outputs": []
    },
    {
      "cell_type": "markdown",
      "metadata": {
        "id": "SV5IHuBPlue-",
        "colab_type": "text"
      },
      "source": [
        "**model**"
      ]
    },
    {
      "cell_type": "code",
      "metadata": {
        "id": "bJzNz1Q9lx34",
        "colab_type": "code",
        "colab": {
          "base_uri": "https://localhost:8080/",
          "height": 151
        },
        "outputId": "de47d0b5-d6b6-4c2e-e0d7-3d3bf6edf3e1"
      },
      "source": [
        "#import xgboost.XGBRegressor\n",
        "from xgboost import XGBRegressor\n",
        "regressor=XGBRegressor(n_estimators=1300,reg_lambda=0.12,max_depth=4,learning_rate=0.01)\n",
        "regressor.fit(X_train, y_train)"
      ],
      "execution_count": 286,
      "outputs": [
        {
          "output_type": "stream",
          "text": [
            "[16:10:27] WARNING: /workspace/src/objective/regression_obj.cu:152: reg:linear is now deprecated in favor of reg:squarederror.\n"
          ],
          "name": "stdout"
        },
        {
          "output_type": "execute_result",
          "data": {
            "text/plain": [
              "XGBRegressor(base_score=0.5, booster='gbtree', colsample_bylevel=1,\n",
              "             colsample_bynode=1, colsample_bytree=1, gamma=0,\n",
              "             importance_type='gain', learning_rate=0.01, max_delta_step=0,\n",
              "             max_depth=4, min_child_weight=1, missing=None, n_estimators=1300,\n",
              "             n_jobs=1, nthread=None, objective='reg:linear', random_state=0,\n",
              "             reg_alpha=0, reg_lambda=0.12, scale_pos_weight=1, seed=None,\n",
              "             silent=None, subsample=1, verbosity=1)"
            ]
          },
          "metadata": {
            "tags": []
          },
          "execution_count": 286
        }
      ]
    },
    {
      "cell_type": "code",
      "metadata": {
        "id": "bNcpdUwHnyKu",
        "colab_type": "code",
        "colab": {}
      },
      "source": [
        "y_pred = regressor.predict(X_test)\n",
        "y_pred = sc_y.inverse_transform(y_pred)"
      ],
      "execution_count": 287,
      "outputs": []
    },
    {
      "cell_type": "code",
      "metadata": {
        "id": "7mr47tyhnyON",
        "colab_type": "code",
        "colab": {}
      },
      "source": [
        "y_pred=pd.DataFrame(y_pred)\n",
        "y_test=pd.DataFrame(y_test)"
      ],
      "execution_count": 288,
      "outputs": []
    },
    {
      "cell_type": "code",
      "metadata": {
        "id": "raVivVS9dJp5",
        "colab_type": "code",
        "colab": {
          "base_uri": "https://localhost:8080/",
          "height": 50
        },
        "outputId": "4eaf6516-c45a-495f-a3fd-b7c160a07a5f"
      },
      "source": [
        "err= mean_absolute_percentage_error(y_test, y_pred)\n",
        "err"
      ],
      "execution_count": 289,
      "outputs": [
        {
          "output_type": "execute_result",
          "data": {
            "text/plain": [
              "0    8.427235\n",
              "dtype: float64"
            ]
          },
          "metadata": {
            "tags": []
          },
          "execution_count": 289
        }
      ]
    },
    {
      "cell_type": "code",
      "metadata": {
        "id": "SFk-dRLcgANN",
        "colab_type": "code",
        "colab": {
          "base_uri": "https://localhost:8080/",
          "height": 50
        },
        "outputId": "4db7c039-e644-485a-ab8f-6ebeb614517b"
      },
      "source": [
        "np.mean(np.abs((y_test - y_pred) / y_test))"
      ],
      "execution_count": 290,
      "outputs": [
        {
          "output_type": "execute_result",
          "data": {
            "text/plain": [
              "0    0.084272\n",
              "dtype: float64"
            ]
          },
          "metadata": {
            "tags": []
          },
          "execution_count": 290
        }
      ]
    },
    {
      "cell_type": "code",
      "metadata": {
        "id": "4e6Vh73EkL0E",
        "colab_type": "code",
        "colab": {
          "base_uri": "https://localhost:8080/",
          "height": 935
        },
        "outputId": "44a7da72-a8a5-4373-8341-f8ca702c0d6a"
      },
      "source": [
        "f=pd.concat([y_pred,y_test],axis=1)\n",
        "f.head(30)"
      ],
      "execution_count": 291,
      "outputs": [
        {
          "output_type": "execute_result",
          "data": {
            "text/html": [
              "<div>\n",
              "<style scoped>\n",
              "    .dataframe tbody tr th:only-of-type {\n",
              "        vertical-align: middle;\n",
              "    }\n",
              "\n",
              "    .dataframe tbody tr th {\n",
              "        vertical-align: top;\n",
              "    }\n",
              "\n",
              "    .dataframe thead th {\n",
              "        text-align: right;\n",
              "    }\n",
              "</style>\n",
              "<table border=\"1\" class=\"dataframe\">\n",
              "  <thead>\n",
              "    <tr style=\"text-align: right;\">\n",
              "      <th></th>\n",
              "      <th>0</th>\n",
              "      <th>0</th>\n",
              "    </tr>\n",
              "  </thead>\n",
              "  <tbody>\n",
              "    <tr>\n",
              "      <th>0</th>\n",
              "      <td>1542.912964</td>\n",
              "      <td>1540.216032</td>\n",
              "    </tr>\n",
              "    <tr>\n",
              "      <th>1</th>\n",
              "      <td>83.811996</td>\n",
              "      <td>80.043190</td>\n",
              "    </tr>\n",
              "    <tr>\n",
              "      <th>2</th>\n",
              "      <td>833.398987</td>\n",
              "      <td>873.363631</td>\n",
              "    </tr>\n",
              "    <tr>\n",
              "      <th>3</th>\n",
              "      <td>210.944107</td>\n",
              "      <td>206.603635</td>\n",
              "    </tr>\n",
              "    <tr>\n",
              "      <th>4</th>\n",
              "      <td>107.692825</td>\n",
              "      <td>82.067902</td>\n",
              "    </tr>\n",
              "    <tr>\n",
              "      <th>5</th>\n",
              "      <td>376.552612</td>\n",
              "      <td>401.178828</td>\n",
              "    </tr>\n",
              "    <tr>\n",
              "      <th>6</th>\n",
              "      <td>422.010284</td>\n",
              "      <td>388.593289</td>\n",
              "    </tr>\n",
              "    <tr>\n",
              "      <th>7</th>\n",
              "      <td>914.969177</td>\n",
              "      <td>914.096278</td>\n",
              "    </tr>\n",
              "    <tr>\n",
              "      <th>8</th>\n",
              "      <td>141.347794</td>\n",
              "      <td>140.719936</td>\n",
              "    </tr>\n",
              "    <tr>\n",
              "      <th>9</th>\n",
              "      <td>176.845261</td>\n",
              "      <td>184.849257</td>\n",
              "    </tr>\n",
              "    <tr>\n",
              "      <th>10</th>\n",
              "      <td>1045.276245</td>\n",
              "      <td>1069.916061</td>\n",
              "    </tr>\n",
              "    <tr>\n",
              "      <th>11</th>\n",
              "      <td>162.547134</td>\n",
              "      <td>168.774741</td>\n",
              "    </tr>\n",
              "    <tr>\n",
              "      <th>12</th>\n",
              "      <td>946.163696</td>\n",
              "      <td>954.919482</td>\n",
              "    </tr>\n",
              "    <tr>\n",
              "      <th>13</th>\n",
              "      <td>290.110748</td>\n",
              "      <td>316.267648</td>\n",
              "    </tr>\n",
              "    <tr>\n",
              "      <th>14</th>\n",
              "      <td>738.552246</td>\n",
              "      <td>698.869368</td>\n",
              "    </tr>\n",
              "    <tr>\n",
              "      <th>15</th>\n",
              "      <td>537.092407</td>\n",
              "      <td>546.061300</td>\n",
              "    </tr>\n",
              "    <tr>\n",
              "      <th>16</th>\n",
              "      <td>194.952866</td>\n",
              "      <td>92.960569</td>\n",
              "    </tr>\n",
              "    <tr>\n",
              "      <th>17</th>\n",
              "      <td>752.502014</td>\n",
              "      <td>737.548108</td>\n",
              "    </tr>\n",
              "    <tr>\n",
              "      <th>18</th>\n",
              "      <td>337.126709</td>\n",
              "      <td>333.939411</td>\n",
              "    </tr>\n",
              "    <tr>\n",
              "      <th>19</th>\n",
              "      <td>619.690430</td>\n",
              "      <td>616.376361</td>\n",
              "    </tr>\n",
              "    <tr>\n",
              "      <th>20</th>\n",
              "      <td>368.660706</td>\n",
              "      <td>375.976164</td>\n",
              "    </tr>\n",
              "    <tr>\n",
              "      <th>21</th>\n",
              "      <td>199.761429</td>\n",
              "      <td>220.697925</td>\n",
              "    </tr>\n",
              "    <tr>\n",
              "      <th>22</th>\n",
              "      <td>37.125229</td>\n",
              "      <td>36.451596</td>\n",
              "    </tr>\n",
              "    <tr>\n",
              "      <th>23</th>\n",
              "      <td>618.458374</td>\n",
              "      <td>635.840914</td>\n",
              "    </tr>\n",
              "    <tr>\n",
              "      <th>24</th>\n",
              "      <td>226.385330</td>\n",
              "      <td>241.208408</td>\n",
              "    </tr>\n",
              "    <tr>\n",
              "      <th>25</th>\n",
              "      <td>661.659363</td>\n",
              "      <td>674.112607</td>\n",
              "    </tr>\n",
              "    <tr>\n",
              "      <th>26</th>\n",
              "      <td>627.022461</td>\n",
              "      <td>639.878138</td>\n",
              "    </tr>\n",
              "    <tr>\n",
              "      <th>27</th>\n",
              "      <td>142.604904</td>\n",
              "      <td>157.190991</td>\n",
              "    </tr>\n",
              "    <tr>\n",
              "      <th>28</th>\n",
              "      <td>246.906448</td>\n",
              "      <td>219.093902</td>\n",
              "    </tr>\n",
              "    <tr>\n",
              "      <th>29</th>\n",
              "      <td>331.999420</td>\n",
              "      <td>322.991871</td>\n",
              "    </tr>\n",
              "  </tbody>\n",
              "</table>\n",
              "</div>"
            ],
            "text/plain": [
              "              0            0\n",
              "0   1542.912964  1540.216032\n",
              "1     83.811996    80.043190\n",
              "2    833.398987   873.363631\n",
              "3    210.944107   206.603635\n",
              "4    107.692825    82.067902\n",
              "5    376.552612   401.178828\n",
              "6    422.010284   388.593289\n",
              "7    914.969177   914.096278\n",
              "8    141.347794   140.719936\n",
              "9    176.845261   184.849257\n",
              "10  1045.276245  1069.916061\n",
              "11   162.547134   168.774741\n",
              "12   946.163696   954.919482\n",
              "13   290.110748   316.267648\n",
              "14   738.552246   698.869368\n",
              "15   537.092407   546.061300\n",
              "16   194.952866    92.960569\n",
              "17   752.502014   737.548108\n",
              "18   337.126709   333.939411\n",
              "19   619.690430   616.376361\n",
              "20   368.660706   375.976164\n",
              "21   199.761429   220.697925\n",
              "22    37.125229    36.451596\n",
              "23   618.458374   635.840914\n",
              "24   226.385330   241.208408\n",
              "25   661.659363   674.112607\n",
              "26   627.022461   639.878138\n",
              "27   142.604904   157.190991\n",
              "28   246.906448   219.093902\n",
              "29   331.999420   322.991871"
            ]
          },
          "metadata": {
            "tags": []
          },
          "execution_count": 291
        }
      ]
    },
    {
      "cell_type": "code",
      "metadata": {
        "id": "xn4O_-HBkPVp",
        "colab_type": "code",
        "colab": {
          "base_uri": "https://localhost:8080/",
          "height": 195
        },
        "outputId": "948557ca-9b80-4d10-9adb-5a76fa7fa756"
      },
      "source": [
        "y_t = regressor.predict(test)\n",
        "y_t = sc_y.inverse_transform(y_t)\n",
        "sub=pd.read_excel('/content/Test_dataset.xlsx')\n",
        "sub=pd.DataFrame(sub['Stock Index'])\n",
        "sub.head()"
      ],
      "execution_count": 295,
      "outputs": [
        {
          "output_type": "execute_result",
          "data": {
            "text/html": [
              "<div>\n",
              "<style scoped>\n",
              "    .dataframe tbody tr th:only-of-type {\n",
              "        vertical-align: middle;\n",
              "    }\n",
              "\n",
              "    .dataframe tbody tr th {\n",
              "        vertical-align: top;\n",
              "    }\n",
              "\n",
              "    .dataframe thead th {\n",
              "        text-align: right;\n",
              "    }\n",
              "</style>\n",
              "<table border=\"1\" class=\"dataframe\">\n",
              "  <thead>\n",
              "    <tr style=\"text-align: right;\">\n",
              "      <th></th>\n",
              "      <th>Stock Index</th>\n",
              "    </tr>\n",
              "  </thead>\n",
              "  <tbody>\n",
              "    <tr>\n",
              "      <th>0</th>\n",
              "      <td>AC3235</td>\n",
              "    </tr>\n",
              "    <tr>\n",
              "      <th>1</th>\n",
              "      <td>AC3236</td>\n",
              "    </tr>\n",
              "    <tr>\n",
              "      <th>2</th>\n",
              "      <td>AC3237</td>\n",
              "    </tr>\n",
              "    <tr>\n",
              "      <th>3</th>\n",
              "      <td>AC3238</td>\n",
              "    </tr>\n",
              "    <tr>\n",
              "      <th>4</th>\n",
              "      <td>AC3239</td>\n",
              "    </tr>\n",
              "  </tbody>\n",
              "</table>\n",
              "</div>"
            ],
            "text/plain": [
              "  Stock Index\n",
              "0      AC3235\n",
              "1      AC3236\n",
              "2      AC3237\n",
              "3      AC3238\n",
              "4      AC3239"
            ]
          },
          "metadata": {
            "tags": []
          },
          "execution_count": 295
        }
      ]
    },
    {
      "cell_type": "code",
      "metadata": {
        "id": "8lPlQ6S8wBYZ",
        "colab_type": "code",
        "colab": {
          "base_uri": "https://localhost:8080/",
          "height": 195
        },
        "outputId": "511ac5ba-2898-48fc-f362-8653dcbf89be"
      },
      "source": [
        "sub['Stock Price']=y_t\n",
        "sub.head()"
      ],
      "execution_count": 296,
      "outputs": [
        {
          "output_type": "execute_result",
          "data": {
            "text/html": [
              "<div>\n",
              "<style scoped>\n",
              "    .dataframe tbody tr th:only-of-type {\n",
              "        vertical-align: middle;\n",
              "    }\n",
              "\n",
              "    .dataframe tbody tr th {\n",
              "        vertical-align: top;\n",
              "    }\n",
              "\n",
              "    .dataframe thead th {\n",
              "        text-align: right;\n",
              "    }\n",
              "</style>\n",
              "<table border=\"1\" class=\"dataframe\">\n",
              "  <thead>\n",
              "    <tr style=\"text-align: right;\">\n",
              "      <th></th>\n",
              "      <th>Stock Index</th>\n",
              "      <th>Stock Price</th>\n",
              "    </tr>\n",
              "  </thead>\n",
              "  <tbody>\n",
              "    <tr>\n",
              "      <th>0</th>\n",
              "      <td>AC3235</td>\n",
              "      <td>816.097229</td>\n",
              "    </tr>\n",
              "    <tr>\n",
              "      <th>1</th>\n",
              "      <td>AC3236</td>\n",
              "      <td>309.454803</td>\n",
              "    </tr>\n",
              "    <tr>\n",
              "      <th>2</th>\n",
              "      <td>AC3237</td>\n",
              "      <td>1553.574707</td>\n",
              "    </tr>\n",
              "    <tr>\n",
              "      <th>3</th>\n",
              "      <td>AC3238</td>\n",
              "      <td>827.103394</td>\n",
              "    </tr>\n",
              "    <tr>\n",
              "      <th>4</th>\n",
              "      <td>AC3239</td>\n",
              "      <td>293.704437</td>\n",
              "    </tr>\n",
              "  </tbody>\n",
              "</table>\n",
              "</div>"
            ],
            "text/plain": [
              "  Stock Index  Stock Price\n",
              "0      AC3235   816.097229\n",
              "1      AC3236   309.454803\n",
              "2      AC3237  1553.574707\n",
              "3      AC3238   827.103394\n",
              "4      AC3239   293.704437"
            ]
          },
          "metadata": {
            "tags": []
          },
          "execution_count": 296
        }
      ]
    },
    {
      "cell_type": "code",
      "metadata": {
        "id": "oSdWU4XOwbC4",
        "colab_type": "code",
        "colab": {}
      },
      "source": [
        "sub.to_csv(\"sp10t-1.csv\",index=False)"
      ],
      "execution_count": 297,
      "outputs": []
    },
    {
      "cell_type": "code",
      "metadata": {
        "id": "VBdIjxr6xKtQ",
        "colab_type": "code",
        "colab": {}
      },
      "source": [
        "sol=pd.read_csv('/content/sp10t-1.csv')"
      ],
      "execution_count": 298,
      "outputs": []
    },
    {
      "cell_type": "code",
      "metadata": {
        "id": "qDqRiJnsxZ6C",
        "colab_type": "code",
        "colab": {
          "base_uri": "https://localhost:8080/",
          "height": 195
        },
        "outputId": "21135ec9-e9e2-4de7-c03a-326ec945a333"
      },
      "source": [
        "sol.head()"
      ],
      "execution_count": 299,
      "outputs": [
        {
          "output_type": "execute_result",
          "data": {
            "text/html": [
              "<div>\n",
              "<style scoped>\n",
              "    .dataframe tbody tr th:only-of-type {\n",
              "        vertical-align: middle;\n",
              "    }\n",
              "\n",
              "    .dataframe tbody tr th {\n",
              "        vertical-align: top;\n",
              "    }\n",
              "\n",
              "    .dataframe thead th {\n",
              "        text-align: right;\n",
              "    }\n",
              "</style>\n",
              "<table border=\"1\" class=\"dataframe\">\n",
              "  <thead>\n",
              "    <tr style=\"text-align: right;\">\n",
              "      <th></th>\n",
              "      <th>Stock Index</th>\n",
              "      <th>Stock Price</th>\n",
              "    </tr>\n",
              "  </thead>\n",
              "  <tbody>\n",
              "    <tr>\n",
              "      <th>0</th>\n",
              "      <td>AC3235</td>\n",
              "      <td>816.09720</td>\n",
              "    </tr>\n",
              "    <tr>\n",
              "      <th>1</th>\n",
              "      <td>AC3236</td>\n",
              "      <td>309.45480</td>\n",
              "    </tr>\n",
              "    <tr>\n",
              "      <th>2</th>\n",
              "      <td>AC3237</td>\n",
              "      <td>1553.57470</td>\n",
              "    </tr>\n",
              "    <tr>\n",
              "      <th>3</th>\n",
              "      <td>AC3238</td>\n",
              "      <td>827.10340</td>\n",
              "    </tr>\n",
              "    <tr>\n",
              "      <th>4</th>\n",
              "      <td>AC3239</td>\n",
              "      <td>293.70444</td>\n",
              "    </tr>\n",
              "  </tbody>\n",
              "</table>\n",
              "</div>"
            ],
            "text/plain": [
              "  Stock Index  Stock Price\n",
              "0      AC3235    816.09720\n",
              "1      AC3236    309.45480\n",
              "2      AC3237   1553.57470\n",
              "3      AC3238    827.10340\n",
              "4      AC3239    293.70444"
            ]
          },
          "metadata": {
            "tags": []
          },
          "execution_count": 299
        }
      ]
    },
    {
      "cell_type": "code",
      "metadata": {
        "id": "HfXT0dcZxbS1",
        "colab_type": "code",
        "colab": {}
      },
      "source": [
        ""
      ],
      "execution_count": null,
      "outputs": []
    }
  ]
}